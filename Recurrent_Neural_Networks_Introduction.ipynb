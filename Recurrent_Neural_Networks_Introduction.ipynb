{
  "nbformat": 4,
  "nbformat_minor": 0,
  "metadata": {
    "colab": {
      "provenance": []
    },
    "kernelspec": {
      "name": "python3",
      "display_name": "Python 3"
    },
    "language_info": {
      "name": "python"
    }
  },
  "cells": [
    {
      "cell_type": "code",
      "execution_count": 11,
      "metadata": {
        "id": "DL240PrVYj5J"
      },
      "outputs": [],
      "source": [
        "# importing necessary libraries\n",
        "import tensorflow as tf\n",
        "from tensorflow import keras\n",
        "from tensorflow.keras import layers"
      ]
    },
    {
      "cell_type": "code",
      "source": [
        "mnist = keras.datasets.mnist\n",
        "\n",
        "(x_train, y_train), (x_test, y_test) = mnist.load_data()\n",
        "x_train, x_test = x_train/255.0, x_test/255.0"
      ],
      "metadata": {
        "id": "2by69UGEZM0h"
      },
      "execution_count": 3,
      "outputs": []
    },
    {
      "cell_type": "code",
      "source": [
        "# RNN model (using SimpleRNN here, other variations include LSTM, GRU)\n",
        "model = keras.models.Sequential()\n",
        "model.add(keras.Input(shape = (28,28))) # seq_length, input_size\n",
        "#model.add(layers.SimpleRNN(128, return_sequences=True, activation='relu')) # N, 28, 128\n",
        "model.add(layers.SimpleRNN(128, return_sequences=False, activation='relu')) # N, 128\n",
        "model.add(layers.Dense(10))"
      ],
      "metadata": {
        "id": "QDYdZr8EZg4K"
      },
      "execution_count": 17,
      "outputs": []
    },
    {
      "cell_type": "code",
      "source": [
        "print(model.summary())"
      ],
      "metadata": {
        "colab": {
          "base_uri": "https://localhost:8080/"
        },
        "id": "PSYqU39_Z1Jb",
        "outputId": "1ff4680d-9b14-4e30-84bf-393d469a5490"
      },
      "execution_count": 18,
      "outputs": [
        {
          "output_type": "stream",
          "name": "stdout",
          "text": [
            "Model: \"sequential_5\"\n",
            "_________________________________________________________________\n",
            " Layer (type)                Output Shape              Param #   \n",
            "=================================================================\n",
            " simple_rnn_3 (SimpleRNN)    (None, 128)               20096     \n",
            "                                                                 \n",
            " dense_4 (Dense)             (None, 10)                1290      \n",
            "                                                                 \n",
            "=================================================================\n",
            "Total params: 21,386\n",
            "Trainable params: 21,386\n",
            "Non-trainable params: 0\n",
            "_________________________________________________________________\n",
            "None\n"
          ]
        }
      ]
    },
    {
      "cell_type": "code",
      "source": [
        "# loss and optimizer\n",
        "loss = keras.losses.SparseCategoricalCrossentropy(from_logits=True)\n",
        "optim = keras.optimizers.Adam(learning_rate=0.001)\n",
        "metrics = ['accuracy']\n",
        "\n",
        "model.compile(loss=loss, optimizer=optim, metrics=metrics)"
      ],
      "metadata": {
        "id": "RoqxOltxZ3SG"
      },
      "execution_count": 19,
      "outputs": []
    },
    {
      "cell_type": "code",
      "source": [
        "# training\n",
        "batch_size = 64\n",
        "epochs = 5\n",
        "\n",
        "model.fit(x_train, y_train, batch_size=batch_size, epochs=epochs, verbose=2)"
      ],
      "metadata": {
        "colab": {
          "base_uri": "https://localhost:8080/"
        },
        "id": "sNVlI7ufaS1i",
        "outputId": "82b54feb-f7a8-44d3-9fe5-bc2b36e46d98"
      },
      "execution_count": 20,
      "outputs": [
        {
          "output_type": "stream",
          "name": "stdout",
          "text": [
            "Epoch 1/5\n",
            "938/938 - 13s - loss: 0.4732 - accuracy: 0.8482 - 13s/epoch - 14ms/step\n",
            "Epoch 2/5\n",
            "938/938 - 12s - loss: 0.1924 - accuracy: 0.9441 - 12s/epoch - 13ms/step\n",
            "Epoch 3/5\n",
            "938/938 - 12s - loss: 0.1537 - accuracy: 0.9557 - 12s/epoch - 13ms/step\n",
            "Epoch 4/5\n",
            "938/938 - 12s - loss: 0.1286 - accuracy: 0.9629 - 12s/epoch - 13ms/step\n",
            "Epoch 5/5\n",
            "938/938 - 12s - loss: 0.1267 - accuracy: 0.9641 - 12s/epoch - 13ms/step\n"
          ]
        },
        {
          "output_type": "execute_result",
          "data": {
            "text/plain": [
              "<keras.callbacks.History at 0x7f9da20fd6d0>"
            ]
          },
          "metadata": {},
          "execution_count": 20
        }
      ]
    },
    {
      "cell_type": "code",
      "source": [
        "# evaluate\n",
        "model.evaluate(x_test, y_test, batch_size=batch_size, verbose=2)"
      ],
      "metadata": {
        "colab": {
          "base_uri": "https://localhost:8080/"
        },
        "id": "y2gDeqBEahQt",
        "outputId": "47ef0acb-770b-4dc3-cae0-aec77d1aac9b"
      },
      "execution_count": 21,
      "outputs": [
        {
          "output_type": "stream",
          "name": "stdout",
          "text": [
            "157/157 - 1s - loss: 0.1200 - accuracy: 0.9647 - 1s/epoch - 7ms/step\n"
          ]
        },
        {
          "output_type": "execute_result",
          "data": {
            "text/plain": [
              "[0.12003746628761292, 0.9646999835968018]"
            ]
          },
          "metadata": {},
          "execution_count": 21
        }
      ]
    },
    {
      "cell_type": "code",
      "source": [],
      "metadata": {
        "id": "rkm1wCakav4b"
      },
      "execution_count": null,
      "outputs": []
    }
  ]
}