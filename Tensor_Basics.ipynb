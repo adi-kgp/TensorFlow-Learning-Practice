{
  "nbformat": 4,
  "nbformat_minor": 0,
  "metadata": {
    "colab": {
      "name": "Tensor Basics.ipynb",
      "provenance": []
    },
    "kernelspec": {
      "name": "python3",
      "display_name": "Python 3"
    },
    "language_info": {
      "name": "python"
    }
  },
  "cells": [
    {
      "cell_type": "code",
      "execution_count": 35,
      "metadata": {
        "id": "GJYM68ADGzj0",
        "colab": {
          "base_uri": "https://localhost:8080/"
        },
        "outputId": "7971d6a0-ba13-4e3d-9b12-44b3850152ea"
      },
      "outputs": [
        {
          "output_type": "stream",
          "name": "stdout",
          "text": [
            "tf.Tensor([[4.]], shape=(1, 1), dtype=float32) tf.Tensor(\n",
            "[[1. 2. 3.]\n",
            " [4. 5. 6.]], shape=(2, 3), dtype=float32)\n"
          ]
        }
      ],
      "source": [
        "# nd-array\n",
        "# GPU Support\n",
        "# Tensors are used to built a computational graph or in backpropogation\n",
        "# Immutable\n",
        "import tensorflow as tf\n",
        "import os \n",
        "#os.environ(\"TF_CPP_MIN_LOG_LEVEL\") = \"2\"\n",
        "\n",
        "x = tf.constant(4, shape=(1,1), dtype=tf.float32)\n",
        "# rank-2\n",
        "y = tf.constant([[1,2,3],[4,5,6]], dtype=tf.float32)\n",
        "print(x,y)"
      ]
    },
    {
      "cell_type": "code",
      "source": [
        "z = tf.ones((3,3))\n",
        "print(z)"
      ],
      "metadata": {
        "colab": {
          "base_uri": "https://localhost:8080/"
        },
        "id": "NrPhjmX7heWI",
        "outputId": "946927d9-844f-4754-efb0-f940dc4fe926"
      },
      "execution_count": 7,
      "outputs": [
        {
          "output_type": "stream",
          "name": "stdout",
          "text": [
            "tf.Tensor(\n",
            "[[1. 1. 1.]\n",
            " [1. 1. 1.]\n",
            " [1. 1. 1.]], shape=(3, 3), dtype=float32)\n"
          ]
        }
      ]
    },
    {
      "cell_type": "code",
      "source": [
        "t = tf.zeros((3,3))\n",
        "print(t)"
      ],
      "metadata": {
        "colab": {
          "base_uri": "https://localhost:8080/"
        },
        "id": "F_x6lcTtN8Cg",
        "outputId": "2a1f4f58-6d1a-4606-d2cd-2e78a7377f55"
      },
      "execution_count": 8,
      "outputs": [
        {
          "output_type": "stream",
          "name": "stdout",
          "text": [
            "tf.Tensor(\n",
            "[[0. 0. 0.]\n",
            " [0. 0. 0.]\n",
            " [0. 0. 0.]], shape=(3, 3), dtype=float32)\n"
          ]
        }
      ]
    },
    {
      "cell_type": "code",
      "source": [
        "# identity matrix\n",
        "s = tf.eye(3)\n",
        "print(s)"
      ],
      "metadata": {
        "colab": {
          "base_uri": "https://localhost:8080/"
        },
        "id": "gZX5yL-TOF0e",
        "outputId": "2878aa52-64d1-4683-bdbc-94cd68a38304"
      },
      "execution_count": 9,
      "outputs": [
        {
          "output_type": "stream",
          "name": "stdout",
          "text": [
            "tf.Tensor(\n",
            "[[1. 0. 0.]\n",
            " [0. 1. 0.]\n",
            " [0. 0. 1.]], shape=(3, 3), dtype=float32)\n"
          ]
        }
      ]
    },
    {
      "cell_type": "code",
      "source": [
        "# normal distribution\n",
        "p = tf.random.normal((3,3), mean=0, stddev=1)\n",
        "print(p)"
      ],
      "metadata": {
        "colab": {
          "base_uri": "https://localhost:8080/"
        },
        "id": "2XgHsq13ONYS",
        "outputId": "ab57814b-dee2-4412-b08b-6c32da228488"
      },
      "execution_count": 11,
      "outputs": [
        {
          "output_type": "stream",
          "name": "stdout",
          "text": [
            "tf.Tensor(\n",
            "[[ 0.45440435  0.00312451 -0.26003227]\n",
            " [ 0.43840846 -0.7786953  -0.24634628]\n",
            " [-1.8496013  -0.40899143  1.101799  ]], shape=(3, 3), dtype=float32)\n"
          ]
        }
      ]
    },
    {
      "cell_type": "code",
      "source": [
        "# uniform distribution\n",
        "u = tf.random.uniform((2,3), minval=0, maxval=1)\n",
        "print(u)"
      ],
      "metadata": {
        "colab": {
          "base_uri": "https://localhost:8080/"
        },
        "id": "wNQiBf9pObzX",
        "outputId": "9eb6558c-751c-4067-9e9b-a55a09a6597e"
      },
      "execution_count": 24,
      "outputs": [
        {
          "output_type": "stream",
          "name": "stdout",
          "text": [
            "tf.Tensor(\n",
            "[[0.19467318 0.8167553  0.5366838 ]\n",
            " [0.5984874  0.58615625 0.23593485]], shape=(2, 3), dtype=float32)\n"
          ]
        }
      ]
    },
    {
      "cell_type": "code",
      "source": [
        "# range function\n",
        "v = tf.range(10)\n",
        "print(v)"
      ],
      "metadata": {
        "colab": {
          "base_uri": "https://localhost:8080/"
        },
        "id": "D7z1K-jzO4jN",
        "outputId": "3f8582ff-0ae6-4042-8ee9-050011222411"
      },
      "execution_count": 13,
      "outputs": [
        {
          "output_type": "stream",
          "name": "stdout",
          "text": [
            "tf.Tensor([0 1 2 3 4 5 6 7 8 9], shape=(10,), dtype=int32)\n"
          ]
        }
      ]
    },
    {
      "cell_type": "code",
      "source": [
        "# cast\n",
        "v = tf.cast(v, dtype=tf.float32)\n",
        "print(v)"
      ],
      "metadata": {
        "colab": {
          "base_uri": "https://localhost:8080/"
        },
        "id": "hcA8jE8lPFDF",
        "outputId": "369fe731-0e4f-4432-d70c-08b0396a035e"
      },
      "execution_count": 20,
      "outputs": [
        {
          "output_type": "stream",
          "name": "stdout",
          "text": [
            "tf.Tensor([0. 1. 2. 3. 4. 5. 6. 7. 8. 9.], shape=(10,), dtype=float32)\n"
          ]
        }
      ]
    },
    {
      "cell_type": "code",
      "source": [
        "## Operations on tensors\n",
        "# elementwise\n",
        "a = tf.constant([1,2,3])\n",
        "b = tf.constant([4,5,6])\n",
        "c = tf.add(a,b)\n",
        "d = a+b\n",
        "e = tf.subtract(a,b)\n",
        "f = a-b\n",
        "g = tf.divide(b,a)\n",
        "h = b/a\n",
        "i = tf.multiply(a,b)\n",
        "j = a*b\n",
        "print(g,h)\n",
        "print(i,j)\n",
        "print(e,f)\n",
        "print(c,d)"
      ],
      "metadata": {
        "colab": {
          "base_uri": "https://localhost:8080/"
        },
        "id": "Xl7yQOiLPUOi",
        "outputId": "14f091be-53a9-4c3b-9485-54c503b3a2be"
      },
      "execution_count": 32,
      "outputs": [
        {
          "output_type": "stream",
          "name": "stdout",
          "text": [
            "tf.Tensor([4.  2.5 2. ], shape=(3,), dtype=float64) tf.Tensor([4.  2.5 2. ], shape=(3,), dtype=float64)\n",
            "tf.Tensor([ 4 10 18], shape=(3,), dtype=int32) tf.Tensor([ 4 10 18], shape=(3,), dtype=int32)\n",
            "tf.Tensor([-3 -3 -3], shape=(3,), dtype=int32) tf.Tensor([-3 -3 -3], shape=(3,), dtype=int32)\n",
            "tf.Tensor([5 7 9], shape=(3,), dtype=int32) tf.Tensor([5 7 9], shape=(3,), dtype=int32)\n"
          ]
        }
      ]
    },
    {
      "cell_type": "code",
      "source": [
        "# Dot product\n",
        "k = tf.tensordot(a,b, axes=1)\n",
        "l = a ** 3\n",
        "print(k)\n",
        "print(l)"
      ],
      "metadata": {
        "colab": {
          "base_uri": "https://localhost:8080/"
        },
        "id": "GRNYgDV3Qosp",
        "outputId": "43394b80-804b-4e49-8886-ea559bc92399"
      },
      "execution_count": 38,
      "outputs": [
        {
          "output_type": "stream",
          "name": "stdout",
          "text": [
            "tf.Tensor(32, shape=(), dtype=int32)\n",
            "tf.Tensor([ 1  8 27], shape=(3,), dtype=int32)\n"
          ]
        }
      ]
    },
    {
      "cell_type": "code",
      "source": [
        "# Matrix Multiplication (same rule of matrix algebra, nrows of matrix 2 == ncols of matrix 1, resulting shape is nrows of matrix 1 == ncols of matrix 2)\n",
        "m = tf.random.normal((3,2))\n",
        "n = tf.random.normal((2,3))\n",
        "o = tf.matmul(m,n) # matrix multiplication\n",
        "p = m@n \n",
        "print(o)\n",
        "print(p)"
      ],
      "metadata": {
        "colab": {
          "base_uri": "https://localhost:8080/"
        },
        "id": "Npj2PjWtRqn9",
        "outputId": "9368f486-c164-4290-e42a-ef55cfd50b36"
      },
      "execution_count": 43,
      "outputs": [
        {
          "output_type": "stream",
          "name": "stdout",
          "text": [
            "tf.Tensor(\n",
            "[[ 0.4802406  -0.67947274  0.16532552]\n",
            " [-0.01825622 -0.96830416  0.71415406]\n",
            " [-0.6071476   0.15996663  0.29758883]], shape=(3, 3), dtype=float32)\n",
            "tf.Tensor(\n",
            "[[ 0.4802406  -0.67947274  0.16532552]\n",
            " [-0.01825622 -0.96830416  0.71415406]\n",
            " [-0.6071476   0.15996663  0.29758883]], shape=(3, 3), dtype=float32)\n"
          ]
        }
      ]
    },
    {
      "cell_type": "code",
      "source": [
        "# Slicing , indexing\n",
        "q = tf.constant([[1,2,3,4], [5,6,7,8]])\n",
        "print(q[0])\n",
        "print(q[:,0])\n",
        "print(q[0,:])\n",
        "print(q[0,1:3])"
      ],
      "metadata": {
        "colab": {
          "base_uri": "https://localhost:8080/"
        },
        "id": "F7vb7ZahR2Tv",
        "outputId": "e981d1f0-ced7-4086-ee4e-6ee7bbb9e79c"
      },
      "execution_count": 50,
      "outputs": [
        {
          "output_type": "stream",
          "name": "stdout",
          "text": [
            "tf.Tensor([1 2 3 4], shape=(4,), dtype=int32)\n",
            "tf.Tensor([1 5], shape=(2,), dtype=int32)\n",
            "tf.Tensor([1 2 3 4], shape=(4,), dtype=int32)\n",
            "tf.Tensor([2 3], shape=(2,), dtype=int32)\n"
          ]
        }
      ]
    },
    {
      "cell_type": "code",
      "source": [
        "print(q[1,1])"
      ],
      "metadata": {
        "colab": {
          "base_uri": "https://localhost:8080/"
        },
        "id": "NW9T3kWRVNEP",
        "outputId": "3e20898e-3174-4909-8fff-7fc80d163934"
      },
      "execution_count": 52,
      "outputs": [
        {
          "output_type": "stream",
          "name": "stdout",
          "text": [
            "tf.Tensor(6, shape=(), dtype=int32)\n"
          ]
        }
      ]
    },
    {
      "cell_type": "code",
      "source": [
        "#reshaping\n",
        "r = tf.random.normal((2,3))\n",
        "print(r)\n",
        "s = tf.reshape(r, (3,2))\n",
        "t = tf.reshape(r, (6))\n",
        "u = tf.reshape(r, (-1, 2))\n",
        "print(s)\n",
        "print(t)\n",
        "print(u)"
      ],
      "metadata": {
        "colab": {
          "base_uri": "https://localhost:8080/"
        },
        "id": "-F-VAKG8V-jD",
        "outputId": "c144405d-0672-4514-8b3f-f42686526446"
      },
      "execution_count": 68,
      "outputs": [
        {
          "output_type": "stream",
          "name": "stdout",
          "text": [
            "tf.Tensor(\n",
            "[[-0.5218119  -0.09196717  0.82682395]\n",
            " [ 1.2910805  -0.57684153 -0.88908404]], shape=(2, 3), dtype=float32)\n",
            "tf.Tensor(\n",
            "[[-0.5218119  -0.09196717]\n",
            " [ 0.82682395  1.2910805 ]\n",
            " [-0.57684153 -0.88908404]], shape=(3, 2), dtype=float32)\n",
            "tf.Tensor([-0.5218119  -0.09196717  0.82682395  1.2910805  -0.57684153 -0.88908404], shape=(6,), dtype=float32)\n",
            "tf.Tensor(\n",
            "[[-0.5218119  -0.09196717]\n",
            " [ 0.82682395  1.2910805 ]\n",
            " [-0.57684153 -0.88908404]], shape=(3, 2), dtype=float32)\n"
          ]
        }
      ]
    },
    {
      "cell_type": "code",
      "source": [
        "# tensor array to numpy array\n",
        "u = u.numpy()\n",
        "print(u)\n",
        "print(type(u))"
      ],
      "metadata": {
        "colab": {
          "base_uri": "https://localhost:8080/"
        },
        "id": "yWpxbI1xW4n_",
        "outputId": "e86e9a4f-2cda-403f-97d8-94786eebdf4d"
      },
      "execution_count": 69,
      "outputs": [
        {
          "output_type": "stream",
          "name": "stdout",
          "text": [
            "[[-0.5218119  -0.09196717]\n",
            " [ 0.82682395  1.2910805 ]\n",
            " [-0.57684153 -0.88908404]]\n",
            "<class 'numpy.ndarray'>\n"
          ]
        }
      ]
    },
    {
      "cell_type": "code",
      "source": [
        "# convert from numpy array to tensor\n",
        "u = tf.convert_to_tensor(u)\n",
        "print(u)\n",
        "print(type(u))"
      ],
      "metadata": {
        "colab": {
          "base_uri": "https://localhost:8080/"
        },
        "id": "Jo9uYYoHZCE2",
        "outputId": "abd86b46-b235-42af-b48e-20c4d803416f"
      },
      "execution_count": 71,
      "outputs": [
        {
          "output_type": "stream",
          "name": "stdout",
          "text": [
            "tf.Tensor(\n",
            "[[-0.5218119  -0.09196717]\n",
            " [ 0.82682395  1.2910805 ]\n",
            " [-0.57684153 -0.88908404]], shape=(3, 2), dtype=float32)\n",
            "<class 'tensorflow.python.framework.ops.EagerTensor'>\n"
          ]
        }
      ]
    },
    {
      "cell_type": "code",
      "source": [
        "v = tf.constant([\"Patrick\", \"Max\", \"Adi\"])\n",
        "print(v)"
      ],
      "metadata": {
        "colab": {
          "base_uri": "https://localhost:8080/"
        },
        "id": "CXX8zDSNZjUA",
        "outputId": "fc94f2d5-afdd-4fe0-f2d6-c9a494a65e73"
      },
      "execution_count": 73,
      "outputs": [
        {
          "output_type": "stream",
          "name": "stdout",
          "text": [
            "tf.Tensor([b'Patrick' b'Max' b'Adi'], shape=(3,), dtype=string)\n"
          ]
        }
      ]
    },
    {
      "cell_type": "code",
      "source": [
        "# Variable\n",
        "w = tf.constant([1,2,3])\n",
        "x = tf.Variable([1,2,3]) # different from tensorflow constant\n",
        "print(w)\n",
        "print(x)"
      ],
      "metadata": {
        "colab": {
          "base_uri": "https://localhost:8080/"
        },
        "id": "sW3y5lOfaB2X",
        "outputId": "73ae4589-bf6f-405d-dcbc-3bc9ae800640"
      },
      "execution_count": 75,
      "outputs": [
        {
          "output_type": "stream",
          "name": "stdout",
          "text": [
            "tf.Tensor([1 2 3], shape=(3,), dtype=int32)\n",
            "<tf.Variable 'Variable:0' shape=(3,) dtype=int32, numpy=array([1, 2, 3], dtype=int32)>\n"
          ]
        }
      ]
    },
    {
      "cell_type": "code",
      "source": [],
      "metadata": {
        "id": "ZXHrqgjca3X0"
      },
      "execution_count": null,
      "outputs": []
    }
  ]
}