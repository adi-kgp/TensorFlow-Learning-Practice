{
  "nbformat": 4,
  "nbformat_minor": 0,
  "metadata": {
    "colab": {
      "provenance": []
    },
    "kernelspec": {
      "name": "python3",
      "display_name": "Python 3"
    },
    "language_info": {
      "name": "python"
    }
  },
  "cells": [
    {
      "cell_type": "code",
      "execution_count": 1,
      "metadata": {
        "id": "dh_4VkcFi5SA"
      },
      "outputs": [],
      "source": [
        "import tensorflow as tf\n",
        "from tensorflow import keras\n",
        "import numpy as np"
      ]
    },
    {
      "cell_type": "code",
      "source": [
        "# typical model: Sequential : one input, one output\n",
        "model = keras.models.Sequential([\n",
        "    keras.layers.Flatten(input_shape=(28,28)),\n",
        "    keras.layers.Dense(128, activation='relu'),\n",
        "    keras.layers.Dense(10)\n",
        "])\n",
        "\n",
        "print(model.summary())"
      ],
      "metadata": {
        "colab": {
          "base_uri": "https://localhost:8080/"
        },
        "id": "RRlecorGjUOT",
        "outputId": "6771c689-3cc5-4f6c-9cff-76f6ba236322"
      },
      "execution_count": 2,
      "outputs": [
        {
          "output_type": "stream",
          "name": "stdout",
          "text": [
            "Model: \"sequential\"\n",
            "_________________________________________________________________\n",
            " Layer (type)                Output Shape              Param #   \n",
            "=================================================================\n",
            " flatten (Flatten)           (None, 784)               0         \n",
            "                                                                 \n",
            " dense (Dense)               (None, 128)               100480    \n",
            "                                                                 \n",
            " dense_1 (Dense)             (None, 10)                1290      \n",
            "                                                                 \n",
            "=================================================================\n",
            "Total params: 101,770\n",
            "Trainable params: 101,770\n",
            "Non-trainable params: 0\n",
            "_________________________________________________________________\n",
            "None\n"
          ]
        }
      ]
    },
    {
      "cell_type": "code",
      "source": [
        "# Funtional API (Single output)\n",
        "inputs = keras.Input(shape=(28,28))\n",
        "\n",
        "flatten = keras.layers.Flatten()\n",
        "dense1 = keras.layers.Dense(128, activation='relu')\n",
        "dense2 = keras.layers.Dense(10)\n",
        "\n",
        "x = flatten(inputs)\n",
        "x = dense1(x)\n",
        "outputs = dense2(x)\n",
        "model = keras.Model(inputs=inputs, outputs=outputs, name='functional_model')\n",
        "print(model.summary())"
      ],
      "metadata": {
        "colab": {
          "base_uri": "https://localhost:8080/"
        },
        "id": "ubv6kzzgj5KW",
        "outputId": "7c999571-be2d-4bd9-e3b3-946ad5c50e38"
      },
      "execution_count": 3,
      "outputs": [
        {
          "output_type": "stream",
          "name": "stdout",
          "text": [
            "Model: \"functional_model\"\n",
            "_________________________________________________________________\n",
            " Layer (type)                Output Shape              Param #   \n",
            "=================================================================\n",
            " input_1 (InputLayer)        [(None, 28, 28)]          0         \n",
            "                                                                 \n",
            " flatten_1 (Flatten)         (None, 784)               0         \n",
            "                                                                 \n",
            " dense_2 (Dense)             (None, 128)               100480    \n",
            "                                                                 \n",
            " dense_3 (Dense)             (None, 10)                1290      \n",
            "                                                                 \n",
            "=================================================================\n",
            "Total params: 101,770\n",
            "Trainable params: 101,770\n",
            "Non-trainable params: 0\n",
            "_________________________________________________________________\n",
            "None\n"
          ]
        }
      ]
    },
    {
      "cell_type": "code",
      "source": [
        "# Funtional API (Multiple outputs)\n",
        "inputs = keras.Input(shape=(28,28))\n",
        "\n",
        "flatten = keras.layers.Flatten()\n",
        "dense1 = keras.layers.Dense(128, activation='relu')\n",
        "dense2 = keras.layers.Dense(10)\n",
        "dense2_2 = keras.layers.Dense(1)\n",
        "\n",
        "x = flatten(inputs)\n",
        "x = dense1(x)\n",
        "\n",
        "outputs = dense2(x)\n",
        "outputs2 = dense2_2(x)\n",
        "model1 = keras.Model(inputs=inputs, outputs=[outputs, outputs2], name='functional_model')\n",
        "print(model1.summary())"
      ],
      "metadata": {
        "colab": {
          "base_uri": "https://localhost:8080/"
        },
        "id": "WJPvo2Bakn3M",
        "outputId": "79cafbcf-8500-4f8c-a2d6-a4fe7d511736"
      },
      "execution_count": 4,
      "outputs": [
        {
          "output_type": "stream",
          "name": "stdout",
          "text": [
            "Model: \"functional_model\"\n",
            "__________________________________________________________________________________________________\n",
            " Layer (type)                   Output Shape         Param #     Connected to                     \n",
            "==================================================================================================\n",
            " input_2 (InputLayer)           [(None, 28, 28)]     0           []                               \n",
            "                                                                                                  \n",
            " flatten_2 (Flatten)            (None, 784)          0           ['input_2[0][0]']                \n",
            "                                                                                                  \n",
            " dense_4 (Dense)                (None, 128)          100480      ['flatten_2[0][0]']              \n",
            "                                                                                                  \n",
            " dense_5 (Dense)                (None, 10)           1290        ['dense_4[0][0]']                \n",
            "                                                                                                  \n",
            " dense_6 (Dense)                (None, 1)            129         ['dense_4[0][0]']                \n",
            "                                                                                                  \n",
            "==================================================================================================\n",
            "Total params: 101,899\n",
            "Trainable params: 101,899\n",
            "Non-trainable params: 0\n",
            "__________________________________________________________________________________________________\n",
            "None\n"
          ]
        }
      ]
    },
    {
      "cell_type": "code",
      "source": [
        "# Let's convert a sequential model to a functional model\n",
        "new_model = keras.models.Sequential()\n",
        "for layer in model.layers:\n",
        "  new_model.add(layer)\n",
        "  \n",
        "# Convert Functional model to a Sequential model\n",
        "inputs = keras.Input(shape = (28,28))\n",
        "x = new_model.layers[0](inputs)\n",
        "for layer in new_model.layers[1:]:\n",
        "  x = layer(x)\n",
        "outputs = x"
      ],
      "metadata": {
        "id": "ucX3iI5Ql47j"
      },
      "execution_count": 5,
      "outputs": []
    },
    {
      "cell_type": "code",
      "source": [
        "\"\"\" Advantages of Functional API:\n",
        "\n",
        "1. Models with multiple inputs and outputs\n",
        "2. Shared Layers\n",
        "3. Extract and reuse nodes in the graph of layers\n",
        "(Models are callable like layers (put model into sequential))\n",
        "\"\"\"\n",
        "inputs = model.inputs\n",
        "outputs = model.outputs\n",
        "\n",
        "input0 = model.layers[0].input\n",
        "output0 = model.layers[0].output"
      ],
      "metadata": {
        "id": "FHQSpOtRnaja"
      },
      "execution_count": 6,
      "outputs": []
    },
    {
      "cell_type": "code",
      "source": [
        "print(inputs)\n",
        "print(outputs)\n",
        "print(input0)\n",
        "print(output0)"
      ],
      "metadata": {
        "colab": {
          "base_uri": "https://localhost:8080/"
        },
        "id": "g6bcTD4UoRHS",
        "outputId": "26c63bdb-140d-49ff-c30f-4c515d38c71b"
      },
      "execution_count": 7,
      "outputs": [
        {
          "output_type": "stream",
          "name": "stdout",
          "text": [
            "[<KerasTensor: shape=(None, 28, 28) dtype=float32 (created by layer 'input_1')>]\n",
            "[<KerasTensor: shape=(None, 10) dtype=float32 (created by layer 'dense_3')>]\n",
            "KerasTensor(type_spec=TensorSpec(shape=(None, 28, 28), dtype=tf.float32, name='input_1'), name='input_1', description=\"created by layer 'input_1'\")\n",
            "KerasTensor(type_spec=TensorSpec(shape=(None, 28, 28), dtype=tf.float32, name='input_1'), name='input_1', description=\"created by layer 'input_1'\")\n"
          ]
        }
      ]
    },
    {
      "cell_type": "code",
      "source": [
        "# application of functional api in transfer learning\n",
        "base_model = keras.applications.VGG16()\n",
        "\n",
        "x = base_model.layers[-2].output\n",
        "new_outputs = keras.layers.Dense(1)(x)\n",
        "new_model = keras.Model(inputs=base_model.inputs, outputs=new_outputs)"
      ],
      "metadata": {
        "id": "UDsZGUU-oYRT"
      },
      "execution_count": null,
      "outputs": []
    },
    {
      "cell_type": "markdown",
      "source": [
        "#### Let us explore the Functional API in more detail through a real application , \n",
        "**We need to predict whether a digit in mnist dataset was written with right hand or left hand**"
      ],
      "metadata": {
        "id": "xLU_J-_RaxuP"
      }
    },
    {
      "cell_type": "code",
      "source": [
        "import tensorflow as tf\n",
        "from tensorflow import keras\n",
        "import numpy as np"
      ],
      "metadata": {
        "id": "JmvOjokra6EY"
      },
      "execution_count": 1,
      "outputs": []
    },
    {
      "cell_type": "code",
      "source": [
        "# Define Functional Model\n",
        "inputs = keras.Input(shape=(28,28))\n",
        "flatten = keras.layers.Flatten()\n",
        "dense1 = keras.layers.Dense(128, activation='relu')\n",
        "dense2 = keras.layers.Dense(10, activation='softmax', name='category_output')\n",
        "dense3 = keras.layers.Dense(1, activation='sigmoid', name='leftright_output')"
      ],
      "metadata": {
        "id": "XzROLrfQbC6x"
      },
      "execution_count": 2,
      "outputs": []
    },
    {
      "cell_type": "code",
      "source": [
        "x = flatten(inputs)\n",
        "x = dense1(x)\n",
        "outputs1 = dense2(x)\n",
        "outputs2 = dense3(x)\n",
        "model = keras.Model(inputs=inputs, outputs=[outputs1, outputs2], name='mnist_model')\n",
        "\n",
        "model.summary()"
      ],
      "metadata": {
        "colab": {
          "base_uri": "https://localhost:8080/"
        },
        "id": "VhcXiWUabp80",
        "outputId": "312b4f40-403a-4d64-fafd-9f108b6c7f91"
      },
      "execution_count": 3,
      "outputs": [
        {
          "output_type": "stream",
          "name": "stdout",
          "text": [
            "Model: \"mnist_model\"\n",
            "__________________________________________________________________________________________________\n",
            " Layer (type)                   Output Shape         Param #     Connected to                     \n",
            "==================================================================================================\n",
            " input_1 (InputLayer)           [(None, 28, 28)]     0           []                               \n",
            "                                                                                                  \n",
            " flatten (Flatten)              (None, 784)          0           ['input_1[0][0]']                \n",
            "                                                                                                  \n",
            " dense (Dense)                  (None, 128)          100480      ['flatten[0][0]']                \n",
            "                                                                                                  \n",
            " category_output (Dense)        (None, 10)           1290        ['dense[0][0]']                  \n",
            "                                                                                                  \n",
            " leftright_output (Dense)       (None, 1)            129         ['dense[0][0]']                  \n",
            "                                                                                                  \n",
            "==================================================================================================\n",
            "Total params: 101,899\n",
            "Trainable params: 101,899\n",
            "Non-trainable params: 0\n",
            "__________________________________________________________________________________________________\n"
          ]
        }
      ]
    },
    {
      "cell_type": "code",
      "source": [
        "# loss and optimizer\n",
        "loss1 = keras.losses.SparseCategoricalCrossentropy(from_logits=False)\n",
        "loss2 = keras.losses.BinaryCrossentropy(from_logits=False)\n",
        "optim = keras.optimizers.Adam(learning_rate=0.001)\n",
        "metrics = [\"accuracy\"]\n",
        "\n",
        "losses = {\n",
        "    \"category_output\": loss1,\n",
        "    \"leftright_output\": loss2\n",
        "}\n",
        "\n",
        "model.compile(loss=losses, optimizer=optim, metrics=metrics)"
      ],
      "metadata": {
        "id": "FgrPSJeocB9s"
      },
      "execution_count": 5,
      "outputs": []
    },
    {
      "cell_type": "code",
      "source": [
        "# create data with 2 labels\n",
        "mnist = keras.datasets.mnist\n",
        "\n",
        "(x_train, y_train), (x_test, y_test) = mnist.load_data()\n",
        "x_train, x_test = x_train / 255.0, x_test / 255.0 # normalization\n",
        "\n",
        "# Dummy dataset for left and right digits creation\n",
        "# 0 = left, 1 = right\n",
        "y_leftright = np.zeros(y_train.shape, dtype=np.uint8)\n",
        "\n",
        "for idx, y in enumerate(y_train):\n",
        "  if y > 5:\n",
        "    y_leftright[idx] = 1 # each digit greater than 5 written by a right hand\n",
        "\n",
        "print(y_train.dtype, y_train[0:20])\n",
        "print(y_leftright.dtype, y_leftright[0:20])\n",
        "\n",
        "y = {\"category_output\": y_train,\n",
        "     \"leftright_output\": y_leftright}"
      ],
      "metadata": {
        "colab": {
          "base_uri": "https://localhost:8080/"
        },
        "id": "0AKqia2GderD",
        "outputId": "f1833714-1e2d-4698-d222-29f1a1c8da36"
      },
      "execution_count": 6,
      "outputs": [
        {
          "output_type": "stream",
          "name": "stdout",
          "text": [
            "Downloading data from https://storage.googleapis.com/tensorflow/tf-keras-datasets/mnist.npz\n",
            "11493376/11490434 [==============================] - 0s 0us/step\n",
            "11501568/11490434 [==============================] - 0s 0us/step\n",
            "uint8 [5 0 4 1 9 2 1 3 1 4 3 5 3 6 1 7 2 8 6 9]\n",
            "uint8 [0 0 0 0 1 0 0 0 0 0 0 0 0 1 0 1 0 1 1 1]\n"
          ]
        }
      ]
    },
    {
      "cell_type": "code",
      "source": [
        "# training\n",
        "model.fit(x_train, y=y, epochs=5, batch_size=64, verbose=2)"
      ],
      "metadata": {
        "colab": {
          "base_uri": "https://localhost:8080/"
        },
        "id": "cow6j-FIfWr-",
        "outputId": "64f591fc-aed9-4b4a-af79-282763a49d9d"
      },
      "execution_count": 7,
      "outputs": [
        {
          "output_type": "stream",
          "name": "stdout",
          "text": [
            "Epoch 1/5\n",
            "938/938 - 3s - loss: 0.5108 - category_output_loss: 0.3139 - leftright_output_loss: 0.1969 - category_output_accuracy: 0.9125 - leftright_output_accuracy: 0.9277 - 3s/epoch - 3ms/step\n",
            "Epoch 2/5\n",
            "938/938 - 2s - loss: 0.2425 - category_output_loss: 0.1446 - leftright_output_loss: 0.0980 - category_output_accuracy: 0.9577 - leftright_output_accuracy: 0.9667 - 2s/epoch - 2ms/step\n",
            "Epoch 3/5\n",
            "938/938 - 2s - loss: 0.1781 - category_output_loss: 0.1028 - leftright_output_loss: 0.0752 - category_output_accuracy: 0.9704 - leftright_output_accuracy: 0.9747 - 2s/epoch - 2ms/step\n",
            "Epoch 4/5\n",
            "938/938 - 2s - loss: 0.1424 - category_output_loss: 0.0799 - leftright_output_loss: 0.0624 - category_output_accuracy: 0.9764 - leftright_output_accuracy: 0.9783 - 2s/epoch - 2ms/step\n",
            "Epoch 5/5\n",
            "938/938 - 2s - loss: 0.1171 - category_output_loss: 0.0637 - leftright_output_loss: 0.0534 - category_output_accuracy: 0.9811 - leftright_output_accuracy: 0.9818 - 2s/epoch - 2ms/step\n"
          ]
        },
        {
          "output_type": "execute_result",
          "data": {
            "text/plain": [
              "<keras.callbacks.History at 0x7ff5116deb50>"
            ]
          },
          "metadata": {},
          "execution_count": 7
        }
      ]
    },
    {
      "cell_type": "code",
      "source": [
        "# list with 2 predictions\n",
        "predictions = model.predict(x_test)\n",
        "len(predictions)"
      ],
      "metadata": {
        "colab": {
          "base_uri": "https://localhost:8080/"
        },
        "id": "hQNSTdk9fnNq",
        "outputId": "d8f6b6a7-d8e0-4705-dea9-3ce1b433d846"
      },
      "execution_count": 8,
      "outputs": [
        {
          "output_type": "execute_result",
          "data": {
            "text/plain": [
              "2"
            ]
          },
          "metadata": {},
          "execution_count": 8
        }
      ]
    },
    {
      "cell_type": "code",
      "source": [
        "prediction_category = predictions[0]\n",
        "prediction_lr = predictions[1]\n",
        "\n",
        "pr_cat = prediction_category[0:20]\n",
        "prediction_lr = prediction_lr[0:20]\n",
        "\n",
        "labels_cat = np.argmax(pr_cat, axis=1)\n",
        "labels_lr = np.array([1 if p>= 0.5 else 0 for p in prediction_lr])"
      ],
      "metadata": {
        "id": "JQWJSV05gIrf"
      },
      "execution_count": 9,
      "outputs": []
    },
    {
      "cell_type": "code",
      "source": [
        "print(y_test[0:20])\n",
        "print(labels_cat)\n",
        "print(labels_lr)"
      ],
      "metadata": {
        "colab": {
          "base_uri": "https://localhost:8080/"
        },
        "id": "ovx--ks9gwWJ",
        "outputId": "cb3ab0ed-e4c9-46df-babb-582437d2686b"
      },
      "execution_count": 10,
      "outputs": [
        {
          "output_type": "stream",
          "name": "stdout",
          "text": [
            "[7 2 1 0 4 1 4 9 5 9 0 6 9 0 1 5 9 7 3 4]\n",
            "[7 2 1 0 4 1 4 9 6 9 0 6 9 0 1 5 9 7 3 4]\n",
            "[1 0 0 0 0 0 0 1 1 1 0 1 1 0 0 0 1 1 0 0]\n"
          ]
        }
      ]
    },
    {
      "cell_type": "code",
      "source": [],
      "metadata": {
        "id": "J2cTtJ33hDts"
      },
      "execution_count": null,
      "outputs": []
    }
  ]
}