{
  "nbformat": 4,
  "nbformat_minor": 0,
  "metadata": {
    "colab": {
      "provenance": []
    },
    "kernelspec": {
      "name": "python3",
      "display_name": "Python 3"
    },
    "language_info": {
      "name": "python"
    }
  },
  "cells": [
    {
      "cell_type": "code",
      "execution_count": 1,
      "metadata": {
        "id": "424jQfZs3geo"
      },
      "outputs": [],
      "source": [
        "import matplotlib.pyplot as plt\n",
        "import tensorflow as tf\n",
        "from tensorflow import keras\n",
        "from tensorflow.keras import layers\n",
        "from tensorflow.keras.layers.experimental import preprocessing\n",
        "import numpy as np\n",
        "import pandas as pd\n",
        "# make numpy printouts easier to read\n",
        "np.set_printoptions(precision=3, suppress=True)"
      ]
    },
    {
      "cell_type": "code",
      "source": [
        "# https://archive.ics.uci.edu/ml/datasets/Auto+MPG\n",
        "url = 'http://archive.ics.uci.edu/ml/machine-learning-databases/auto-mpg/auto-mpg.data'\n",
        "column_names = ['MPG', 'Cylinders', 'Displacement', 'Horsepower', 'Weight', 'Acceleration', 'Model Year', 'Origin']\n",
        "dataset = pd.read_csv(url, names=column_names, na_values='?', comment='\\t', sep=' ', skipinitialspace=True)"
      ],
      "metadata": {
        "id": "HbR3QGdv38sl"
      },
      "execution_count": 2,
      "outputs": []
    },
    {
      "cell_type": "code",
      "source": [
        "dataset.tail()"
      ],
      "metadata": {
        "colab": {
          "base_uri": "https://localhost:8080/",
          "height": 206
        },
        "id": "sPxXuSZU4-Cr",
        "outputId": "62894212-dda8-40e5-ff65-be481b508b54"
      },
      "execution_count": 3,
      "outputs": [
        {
          "output_type": "execute_result",
          "data": {
            "text/plain": [
              "      MPG  Cylinders  Displacement  Horsepower  Weight  Acceleration  \\\n",
              "393  27.0          4         140.0        86.0  2790.0          15.6   \n",
              "394  44.0          4          97.0        52.0  2130.0          24.6   \n",
              "395  32.0          4         135.0        84.0  2295.0          11.6   \n",
              "396  28.0          4         120.0        79.0  2625.0          18.6   \n",
              "397  31.0          4         119.0        82.0  2720.0          19.4   \n",
              "\n",
              "     Model Year  Origin  \n",
              "393          82       1  \n",
              "394          82       2  \n",
              "395          82       1  \n",
              "396          82       1  \n",
              "397          82       1  "
            ],
            "text/html": [
              "\n",
              "  <div id=\"df-5acea01d-2e59-4e7b-9a1c-71857b4dd26a\">\n",
              "    <div class=\"colab-df-container\">\n",
              "      <div>\n",
              "<style scoped>\n",
              "    .dataframe tbody tr th:only-of-type {\n",
              "        vertical-align: middle;\n",
              "    }\n",
              "\n",
              "    .dataframe tbody tr th {\n",
              "        vertical-align: top;\n",
              "    }\n",
              "\n",
              "    .dataframe thead th {\n",
              "        text-align: right;\n",
              "    }\n",
              "</style>\n",
              "<table border=\"1\" class=\"dataframe\">\n",
              "  <thead>\n",
              "    <tr style=\"text-align: right;\">\n",
              "      <th></th>\n",
              "      <th>MPG</th>\n",
              "      <th>Cylinders</th>\n",
              "      <th>Displacement</th>\n",
              "      <th>Horsepower</th>\n",
              "      <th>Weight</th>\n",
              "      <th>Acceleration</th>\n",
              "      <th>Model Year</th>\n",
              "      <th>Origin</th>\n",
              "    </tr>\n",
              "  </thead>\n",
              "  <tbody>\n",
              "    <tr>\n",
              "      <th>393</th>\n",
              "      <td>27.0</td>\n",
              "      <td>4</td>\n",
              "      <td>140.0</td>\n",
              "      <td>86.0</td>\n",
              "      <td>2790.0</td>\n",
              "      <td>15.6</td>\n",
              "      <td>82</td>\n",
              "      <td>1</td>\n",
              "    </tr>\n",
              "    <tr>\n",
              "      <th>394</th>\n",
              "      <td>44.0</td>\n",
              "      <td>4</td>\n",
              "      <td>97.0</td>\n",
              "      <td>52.0</td>\n",
              "      <td>2130.0</td>\n",
              "      <td>24.6</td>\n",
              "      <td>82</td>\n",
              "      <td>2</td>\n",
              "    </tr>\n",
              "    <tr>\n",
              "      <th>395</th>\n",
              "      <td>32.0</td>\n",
              "      <td>4</td>\n",
              "      <td>135.0</td>\n",
              "      <td>84.0</td>\n",
              "      <td>2295.0</td>\n",
              "      <td>11.6</td>\n",
              "      <td>82</td>\n",
              "      <td>1</td>\n",
              "    </tr>\n",
              "    <tr>\n",
              "      <th>396</th>\n",
              "      <td>28.0</td>\n",
              "      <td>4</td>\n",
              "      <td>120.0</td>\n",
              "      <td>79.0</td>\n",
              "      <td>2625.0</td>\n",
              "      <td>18.6</td>\n",
              "      <td>82</td>\n",
              "      <td>1</td>\n",
              "    </tr>\n",
              "    <tr>\n",
              "      <th>397</th>\n",
              "      <td>31.0</td>\n",
              "      <td>4</td>\n",
              "      <td>119.0</td>\n",
              "      <td>82.0</td>\n",
              "      <td>2720.0</td>\n",
              "      <td>19.4</td>\n",
              "      <td>82</td>\n",
              "      <td>1</td>\n",
              "    </tr>\n",
              "  </tbody>\n",
              "</table>\n",
              "</div>\n",
              "      <button class=\"colab-df-convert\" onclick=\"convertToInteractive('df-5acea01d-2e59-4e7b-9a1c-71857b4dd26a')\"\n",
              "              title=\"Convert this dataframe to an interactive table.\"\n",
              "              style=\"display:none;\">\n",
              "        \n",
              "  <svg xmlns=\"http://www.w3.org/2000/svg\" height=\"24px\"viewBox=\"0 0 24 24\"\n",
              "       width=\"24px\">\n",
              "    <path d=\"M0 0h24v24H0V0z\" fill=\"none\"/>\n",
              "    <path d=\"M18.56 5.44l.94 2.06.94-2.06 2.06-.94-2.06-.94-.94-2.06-.94 2.06-2.06.94zm-11 1L8.5 8.5l.94-2.06 2.06-.94-2.06-.94L8.5 2.5l-.94 2.06-2.06.94zm10 10l.94 2.06.94-2.06 2.06-.94-2.06-.94-.94-2.06-.94 2.06-2.06.94z\"/><path d=\"M17.41 7.96l-1.37-1.37c-.4-.4-.92-.59-1.43-.59-.52 0-1.04.2-1.43.59L10.3 9.45l-7.72 7.72c-.78.78-.78 2.05 0 2.83L4 21.41c.39.39.9.59 1.41.59.51 0 1.02-.2 1.41-.59l7.78-7.78 2.81-2.81c.8-.78.8-2.07 0-2.86zM5.41 20L4 18.59l7.72-7.72 1.47 1.35L5.41 20z\"/>\n",
              "  </svg>\n",
              "      </button>\n",
              "      \n",
              "  <style>\n",
              "    .colab-df-container {\n",
              "      display:flex;\n",
              "      flex-wrap:wrap;\n",
              "      gap: 12px;\n",
              "    }\n",
              "\n",
              "    .colab-df-convert {\n",
              "      background-color: #E8F0FE;\n",
              "      border: none;\n",
              "      border-radius: 50%;\n",
              "      cursor: pointer;\n",
              "      display: none;\n",
              "      fill: #1967D2;\n",
              "      height: 32px;\n",
              "      padding: 0 0 0 0;\n",
              "      width: 32px;\n",
              "    }\n",
              "\n",
              "    .colab-df-convert:hover {\n",
              "      background-color: #E2EBFA;\n",
              "      box-shadow: 0px 1px 2px rgba(60, 64, 67, 0.3), 0px 1px 3px 1px rgba(60, 64, 67, 0.15);\n",
              "      fill: #174EA6;\n",
              "    }\n",
              "\n",
              "    [theme=dark] .colab-df-convert {\n",
              "      background-color: #3B4455;\n",
              "      fill: #D2E3FC;\n",
              "    }\n",
              "\n",
              "    [theme=dark] .colab-df-convert:hover {\n",
              "      background-color: #434B5C;\n",
              "      box-shadow: 0px 1px 3px 1px rgba(0, 0, 0, 0.15);\n",
              "      filter: drop-shadow(0px 1px 2px rgba(0, 0, 0, 0.3));\n",
              "      fill: #FFFFFF;\n",
              "    }\n",
              "  </style>\n",
              "\n",
              "      <script>\n",
              "        const buttonEl =\n",
              "          document.querySelector('#df-5acea01d-2e59-4e7b-9a1c-71857b4dd26a button.colab-df-convert');\n",
              "        buttonEl.style.display =\n",
              "          google.colab.kernel.accessAllowed ? 'block' : 'none';\n",
              "\n",
              "        async function convertToInteractive(key) {\n",
              "          const element = document.querySelector('#df-5acea01d-2e59-4e7b-9a1c-71857b4dd26a');\n",
              "          const dataTable =\n",
              "            await google.colab.kernel.invokeFunction('convertToInteractive',\n",
              "                                                     [key], {});\n",
              "          if (!dataTable) return;\n",
              "\n",
              "          const docLinkHtml = 'Like what you see? Visit the ' +\n",
              "            '<a target=\"_blank\" href=https://colab.research.google.com/notebooks/data_table.ipynb>data table notebook</a>'\n",
              "            + ' to learn more about interactive tables.';\n",
              "          element.innerHTML = '';\n",
              "          dataTable['output_type'] = 'display_data';\n",
              "          await google.colab.output.renderOutput(dataTable, element);\n",
              "          const docLink = document.createElement('div');\n",
              "          docLink.innerHTML = docLinkHtml;\n",
              "          element.appendChild(docLink);\n",
              "        }\n",
              "      </script>\n",
              "    </div>\n",
              "  </div>\n",
              "  "
            ]
          },
          "metadata": {},
          "execution_count": 3
        }
      ]
    },
    {
      "cell_type": "code",
      "source": [
        "# clean data\n",
        "dataset = dataset.dropna()\n",
        "#covert categorical 'Origin' data into one-hot encoded data\n",
        "origin = dataset.pop('Origin')\n",
        "dataset['USA'] = (origin == 1)*1\n",
        "dataset['Europe'] = (origin == 2)*1\n",
        "dataset['Japan'] = (origin == 3)*1"
      ],
      "metadata": {
        "id": "RwII1x3o5AYH"
      },
      "execution_count": 4,
      "outputs": []
    },
    {
      "cell_type": "code",
      "source": [
        "dataset.tail()"
      ],
      "metadata": {
        "colab": {
          "base_uri": "https://localhost:8080/",
          "height": 206
        },
        "id": "KjZVaA6u7sjN",
        "outputId": "d582885a-41c3-4df6-84fe-edfe4b97cf43"
      },
      "execution_count": 5,
      "outputs": [
        {
          "output_type": "execute_result",
          "data": {
            "text/plain": [
              "      MPG  Cylinders  Displacement  Horsepower  Weight  Acceleration  \\\n",
              "393  27.0          4         140.0        86.0  2790.0          15.6   \n",
              "394  44.0          4          97.0        52.0  2130.0          24.6   \n",
              "395  32.0          4         135.0        84.0  2295.0          11.6   \n",
              "396  28.0          4         120.0        79.0  2625.0          18.6   \n",
              "397  31.0          4         119.0        82.0  2720.0          19.4   \n",
              "\n",
              "     Model Year  USA  Europe  Japan  \n",
              "393          82    1       0      0  \n",
              "394          82    0       1      0  \n",
              "395          82    1       0      0  \n",
              "396          82    1       0      0  \n",
              "397          82    1       0      0  "
            ],
            "text/html": [
              "\n",
              "  <div id=\"df-fc438573-8844-4a15-88ab-f4a51b289237\">\n",
              "    <div class=\"colab-df-container\">\n",
              "      <div>\n",
              "<style scoped>\n",
              "    .dataframe tbody tr th:only-of-type {\n",
              "        vertical-align: middle;\n",
              "    }\n",
              "\n",
              "    .dataframe tbody tr th {\n",
              "        vertical-align: top;\n",
              "    }\n",
              "\n",
              "    .dataframe thead th {\n",
              "        text-align: right;\n",
              "    }\n",
              "</style>\n",
              "<table border=\"1\" class=\"dataframe\">\n",
              "  <thead>\n",
              "    <tr style=\"text-align: right;\">\n",
              "      <th></th>\n",
              "      <th>MPG</th>\n",
              "      <th>Cylinders</th>\n",
              "      <th>Displacement</th>\n",
              "      <th>Horsepower</th>\n",
              "      <th>Weight</th>\n",
              "      <th>Acceleration</th>\n",
              "      <th>Model Year</th>\n",
              "      <th>USA</th>\n",
              "      <th>Europe</th>\n",
              "      <th>Japan</th>\n",
              "    </tr>\n",
              "  </thead>\n",
              "  <tbody>\n",
              "    <tr>\n",
              "      <th>393</th>\n",
              "      <td>27.0</td>\n",
              "      <td>4</td>\n",
              "      <td>140.0</td>\n",
              "      <td>86.0</td>\n",
              "      <td>2790.0</td>\n",
              "      <td>15.6</td>\n",
              "      <td>82</td>\n",
              "      <td>1</td>\n",
              "      <td>0</td>\n",
              "      <td>0</td>\n",
              "    </tr>\n",
              "    <tr>\n",
              "      <th>394</th>\n",
              "      <td>44.0</td>\n",
              "      <td>4</td>\n",
              "      <td>97.0</td>\n",
              "      <td>52.0</td>\n",
              "      <td>2130.0</td>\n",
              "      <td>24.6</td>\n",
              "      <td>82</td>\n",
              "      <td>0</td>\n",
              "      <td>1</td>\n",
              "      <td>0</td>\n",
              "    </tr>\n",
              "    <tr>\n",
              "      <th>395</th>\n",
              "      <td>32.0</td>\n",
              "      <td>4</td>\n",
              "      <td>135.0</td>\n",
              "      <td>84.0</td>\n",
              "      <td>2295.0</td>\n",
              "      <td>11.6</td>\n",
              "      <td>82</td>\n",
              "      <td>1</td>\n",
              "      <td>0</td>\n",
              "      <td>0</td>\n",
              "    </tr>\n",
              "    <tr>\n",
              "      <th>396</th>\n",
              "      <td>28.0</td>\n",
              "      <td>4</td>\n",
              "      <td>120.0</td>\n",
              "      <td>79.0</td>\n",
              "      <td>2625.0</td>\n",
              "      <td>18.6</td>\n",
              "      <td>82</td>\n",
              "      <td>1</td>\n",
              "      <td>0</td>\n",
              "      <td>0</td>\n",
              "    </tr>\n",
              "    <tr>\n",
              "      <th>397</th>\n",
              "      <td>31.0</td>\n",
              "      <td>4</td>\n",
              "      <td>119.0</td>\n",
              "      <td>82.0</td>\n",
              "      <td>2720.0</td>\n",
              "      <td>19.4</td>\n",
              "      <td>82</td>\n",
              "      <td>1</td>\n",
              "      <td>0</td>\n",
              "      <td>0</td>\n",
              "    </tr>\n",
              "  </tbody>\n",
              "</table>\n",
              "</div>\n",
              "      <button class=\"colab-df-convert\" onclick=\"convertToInteractive('df-fc438573-8844-4a15-88ab-f4a51b289237')\"\n",
              "              title=\"Convert this dataframe to an interactive table.\"\n",
              "              style=\"display:none;\">\n",
              "        \n",
              "  <svg xmlns=\"http://www.w3.org/2000/svg\" height=\"24px\"viewBox=\"0 0 24 24\"\n",
              "       width=\"24px\">\n",
              "    <path d=\"M0 0h24v24H0V0z\" fill=\"none\"/>\n",
              "    <path d=\"M18.56 5.44l.94 2.06.94-2.06 2.06-.94-2.06-.94-.94-2.06-.94 2.06-2.06.94zm-11 1L8.5 8.5l.94-2.06 2.06-.94-2.06-.94L8.5 2.5l-.94 2.06-2.06.94zm10 10l.94 2.06.94-2.06 2.06-.94-2.06-.94-.94-2.06-.94 2.06-2.06.94z\"/><path d=\"M17.41 7.96l-1.37-1.37c-.4-.4-.92-.59-1.43-.59-.52 0-1.04.2-1.43.59L10.3 9.45l-7.72 7.72c-.78.78-.78 2.05 0 2.83L4 21.41c.39.39.9.59 1.41.59.51 0 1.02-.2 1.41-.59l7.78-7.78 2.81-2.81c.8-.78.8-2.07 0-2.86zM5.41 20L4 18.59l7.72-7.72 1.47 1.35L5.41 20z\"/>\n",
              "  </svg>\n",
              "      </button>\n",
              "      \n",
              "  <style>\n",
              "    .colab-df-container {\n",
              "      display:flex;\n",
              "      flex-wrap:wrap;\n",
              "      gap: 12px;\n",
              "    }\n",
              "\n",
              "    .colab-df-convert {\n",
              "      background-color: #E8F0FE;\n",
              "      border: none;\n",
              "      border-radius: 50%;\n",
              "      cursor: pointer;\n",
              "      display: none;\n",
              "      fill: #1967D2;\n",
              "      height: 32px;\n",
              "      padding: 0 0 0 0;\n",
              "      width: 32px;\n",
              "    }\n",
              "\n",
              "    .colab-df-convert:hover {\n",
              "      background-color: #E2EBFA;\n",
              "      box-shadow: 0px 1px 2px rgba(60, 64, 67, 0.3), 0px 1px 3px 1px rgba(60, 64, 67, 0.15);\n",
              "      fill: #174EA6;\n",
              "    }\n",
              "\n",
              "    [theme=dark] .colab-df-convert {\n",
              "      background-color: #3B4455;\n",
              "      fill: #D2E3FC;\n",
              "    }\n",
              "\n",
              "    [theme=dark] .colab-df-convert:hover {\n",
              "      background-color: #434B5C;\n",
              "      box-shadow: 0px 1px 3px 1px rgba(0, 0, 0, 0.15);\n",
              "      filter: drop-shadow(0px 1px 2px rgba(0, 0, 0, 0.3));\n",
              "      fill: #FFFFFF;\n",
              "    }\n",
              "  </style>\n",
              "\n",
              "      <script>\n",
              "        const buttonEl =\n",
              "          document.querySelector('#df-fc438573-8844-4a15-88ab-f4a51b289237 button.colab-df-convert');\n",
              "        buttonEl.style.display =\n",
              "          google.colab.kernel.accessAllowed ? 'block' : 'none';\n",
              "\n",
              "        async function convertToInteractive(key) {\n",
              "          const element = document.querySelector('#df-fc438573-8844-4a15-88ab-f4a51b289237');\n",
              "          const dataTable =\n",
              "            await google.colab.kernel.invokeFunction('convertToInteractive',\n",
              "                                                     [key], {});\n",
              "          if (!dataTable) return;\n",
              "\n",
              "          const docLinkHtml = 'Like what you see? Visit the ' +\n",
              "            '<a target=\"_blank\" href=https://colab.research.google.com/notebooks/data_table.ipynb>data table notebook</a>'\n",
              "            + ' to learn more about interactive tables.';\n",
              "          element.innerHTML = '';\n",
              "          dataTable['output_type'] = 'display_data';\n",
              "          await google.colab.output.renderOutput(dataTable, element);\n",
              "          const docLink = document.createElement('div');\n",
              "          docLink.innerHTML = docLinkHtml;\n",
              "          element.appendChild(docLink);\n",
              "        }\n",
              "      </script>\n",
              "    </div>\n",
              "  </div>\n",
              "  "
            ]
          },
          "metadata": {},
          "execution_count": 5
        }
      ]
    },
    {
      "cell_type": "code",
      "source": [
        "# Split data into train and test dataset\n",
        "train_dataset = dataset.sample(frac=0.8, random_state=0)\n",
        "test_dataset = dataset.drop(train_dataset.index)\n",
        "\n",
        "print(dataset.shape, train_dataset.shape, test_dataset.shape)\n",
        "train_dataset.describe().transpose()"
      ],
      "metadata": {
        "colab": {
          "base_uri": "https://localhost:8080/",
          "height": 381
        },
        "id": "ncvgxxJb7wPa",
        "outputId": "bcdc669c-7a30-4a26-a346-05b24d153167"
      },
      "execution_count": 6,
      "outputs": [
        {
          "output_type": "stream",
          "name": "stdout",
          "text": [
            "(392, 10) (314, 10) (78, 10)\n"
          ]
        },
        {
          "output_type": "execute_result",
          "data": {
            "text/plain": [
              "              count         mean         std     min      25%     50%  \\\n",
              "MPG           314.0    23.310510    7.728652    10.0    17.00    22.0   \n",
              "Cylinders     314.0     5.477707    1.699788     3.0     4.00     4.0   \n",
              "Displacement  314.0   195.318471  104.331589    68.0   105.50   151.0   \n",
              "Horsepower    314.0   104.869427   38.096214    46.0    76.25    94.5   \n",
              "Weight        314.0  2990.251592  843.898596  1649.0  2256.50  2822.5   \n",
              "Acceleration  314.0    15.559236    2.789230     8.0    13.80    15.5   \n",
              "Model Year    314.0    75.898089    3.675642    70.0    73.00    76.0   \n",
              "USA           314.0     0.624204    0.485101     0.0     0.00     1.0   \n",
              "Europe        314.0     0.178344    0.383413     0.0     0.00     0.0   \n",
              "Japan         314.0     0.197452    0.398712     0.0     0.00     0.0   \n",
              "\n",
              "                  75%     max  \n",
              "MPG             28.95    46.6  \n",
              "Cylinders        8.00     8.0  \n",
              "Displacement   265.75   455.0  \n",
              "Horsepower     128.00   225.0  \n",
              "Weight        3608.00  5140.0  \n",
              "Acceleration    17.20    24.8  \n",
              "Model Year      79.00    82.0  \n",
              "USA              1.00     1.0  \n",
              "Europe           0.00     1.0  \n",
              "Japan            0.00     1.0  "
            ],
            "text/html": [
              "\n",
              "  <div id=\"df-8797fd02-66df-43df-87cc-889de1507f0c\">\n",
              "    <div class=\"colab-df-container\">\n",
              "      <div>\n",
              "<style scoped>\n",
              "    .dataframe tbody tr th:only-of-type {\n",
              "        vertical-align: middle;\n",
              "    }\n",
              "\n",
              "    .dataframe tbody tr th {\n",
              "        vertical-align: top;\n",
              "    }\n",
              "\n",
              "    .dataframe thead th {\n",
              "        text-align: right;\n",
              "    }\n",
              "</style>\n",
              "<table border=\"1\" class=\"dataframe\">\n",
              "  <thead>\n",
              "    <tr style=\"text-align: right;\">\n",
              "      <th></th>\n",
              "      <th>count</th>\n",
              "      <th>mean</th>\n",
              "      <th>std</th>\n",
              "      <th>min</th>\n",
              "      <th>25%</th>\n",
              "      <th>50%</th>\n",
              "      <th>75%</th>\n",
              "      <th>max</th>\n",
              "    </tr>\n",
              "  </thead>\n",
              "  <tbody>\n",
              "    <tr>\n",
              "      <th>MPG</th>\n",
              "      <td>314.0</td>\n",
              "      <td>23.310510</td>\n",
              "      <td>7.728652</td>\n",
              "      <td>10.0</td>\n",
              "      <td>17.00</td>\n",
              "      <td>22.0</td>\n",
              "      <td>28.95</td>\n",
              "      <td>46.6</td>\n",
              "    </tr>\n",
              "    <tr>\n",
              "      <th>Cylinders</th>\n",
              "      <td>314.0</td>\n",
              "      <td>5.477707</td>\n",
              "      <td>1.699788</td>\n",
              "      <td>3.0</td>\n",
              "      <td>4.00</td>\n",
              "      <td>4.0</td>\n",
              "      <td>8.00</td>\n",
              "      <td>8.0</td>\n",
              "    </tr>\n",
              "    <tr>\n",
              "      <th>Displacement</th>\n",
              "      <td>314.0</td>\n",
              "      <td>195.318471</td>\n",
              "      <td>104.331589</td>\n",
              "      <td>68.0</td>\n",
              "      <td>105.50</td>\n",
              "      <td>151.0</td>\n",
              "      <td>265.75</td>\n",
              "      <td>455.0</td>\n",
              "    </tr>\n",
              "    <tr>\n",
              "      <th>Horsepower</th>\n",
              "      <td>314.0</td>\n",
              "      <td>104.869427</td>\n",
              "      <td>38.096214</td>\n",
              "      <td>46.0</td>\n",
              "      <td>76.25</td>\n",
              "      <td>94.5</td>\n",
              "      <td>128.00</td>\n",
              "      <td>225.0</td>\n",
              "    </tr>\n",
              "    <tr>\n",
              "      <th>Weight</th>\n",
              "      <td>314.0</td>\n",
              "      <td>2990.251592</td>\n",
              "      <td>843.898596</td>\n",
              "      <td>1649.0</td>\n",
              "      <td>2256.50</td>\n",
              "      <td>2822.5</td>\n",
              "      <td>3608.00</td>\n",
              "      <td>5140.0</td>\n",
              "    </tr>\n",
              "    <tr>\n",
              "      <th>Acceleration</th>\n",
              "      <td>314.0</td>\n",
              "      <td>15.559236</td>\n",
              "      <td>2.789230</td>\n",
              "      <td>8.0</td>\n",
              "      <td>13.80</td>\n",
              "      <td>15.5</td>\n",
              "      <td>17.20</td>\n",
              "      <td>24.8</td>\n",
              "    </tr>\n",
              "    <tr>\n",
              "      <th>Model Year</th>\n",
              "      <td>314.0</td>\n",
              "      <td>75.898089</td>\n",
              "      <td>3.675642</td>\n",
              "      <td>70.0</td>\n",
              "      <td>73.00</td>\n",
              "      <td>76.0</td>\n",
              "      <td>79.00</td>\n",
              "      <td>82.0</td>\n",
              "    </tr>\n",
              "    <tr>\n",
              "      <th>USA</th>\n",
              "      <td>314.0</td>\n",
              "      <td>0.624204</td>\n",
              "      <td>0.485101</td>\n",
              "      <td>0.0</td>\n",
              "      <td>0.00</td>\n",
              "      <td>1.0</td>\n",
              "      <td>1.00</td>\n",
              "      <td>1.0</td>\n",
              "    </tr>\n",
              "    <tr>\n",
              "      <th>Europe</th>\n",
              "      <td>314.0</td>\n",
              "      <td>0.178344</td>\n",
              "      <td>0.383413</td>\n",
              "      <td>0.0</td>\n",
              "      <td>0.00</td>\n",
              "      <td>0.0</td>\n",
              "      <td>0.00</td>\n",
              "      <td>1.0</td>\n",
              "    </tr>\n",
              "    <tr>\n",
              "      <th>Japan</th>\n",
              "      <td>314.0</td>\n",
              "      <td>0.197452</td>\n",
              "      <td>0.398712</td>\n",
              "      <td>0.0</td>\n",
              "      <td>0.00</td>\n",
              "      <td>0.0</td>\n",
              "      <td>0.00</td>\n",
              "      <td>1.0</td>\n",
              "    </tr>\n",
              "  </tbody>\n",
              "</table>\n",
              "</div>\n",
              "      <button class=\"colab-df-convert\" onclick=\"convertToInteractive('df-8797fd02-66df-43df-87cc-889de1507f0c')\"\n",
              "              title=\"Convert this dataframe to an interactive table.\"\n",
              "              style=\"display:none;\">\n",
              "        \n",
              "  <svg xmlns=\"http://www.w3.org/2000/svg\" height=\"24px\"viewBox=\"0 0 24 24\"\n",
              "       width=\"24px\">\n",
              "    <path d=\"M0 0h24v24H0V0z\" fill=\"none\"/>\n",
              "    <path d=\"M18.56 5.44l.94 2.06.94-2.06 2.06-.94-2.06-.94-.94-2.06-.94 2.06-2.06.94zm-11 1L8.5 8.5l.94-2.06 2.06-.94-2.06-.94L8.5 2.5l-.94 2.06-2.06.94zm10 10l.94 2.06.94-2.06 2.06-.94-2.06-.94-.94-2.06-.94 2.06-2.06.94z\"/><path d=\"M17.41 7.96l-1.37-1.37c-.4-.4-.92-.59-1.43-.59-.52 0-1.04.2-1.43.59L10.3 9.45l-7.72 7.72c-.78.78-.78 2.05 0 2.83L4 21.41c.39.39.9.59 1.41.59.51 0 1.02-.2 1.41-.59l7.78-7.78 2.81-2.81c.8-.78.8-2.07 0-2.86zM5.41 20L4 18.59l7.72-7.72 1.47 1.35L5.41 20z\"/>\n",
              "  </svg>\n",
              "      </button>\n",
              "      \n",
              "  <style>\n",
              "    .colab-df-container {\n",
              "      display:flex;\n",
              "      flex-wrap:wrap;\n",
              "      gap: 12px;\n",
              "    }\n",
              "\n",
              "    .colab-df-convert {\n",
              "      background-color: #E8F0FE;\n",
              "      border: none;\n",
              "      border-radius: 50%;\n",
              "      cursor: pointer;\n",
              "      display: none;\n",
              "      fill: #1967D2;\n",
              "      height: 32px;\n",
              "      padding: 0 0 0 0;\n",
              "      width: 32px;\n",
              "    }\n",
              "\n",
              "    .colab-df-convert:hover {\n",
              "      background-color: #E2EBFA;\n",
              "      box-shadow: 0px 1px 2px rgba(60, 64, 67, 0.3), 0px 1px 3px 1px rgba(60, 64, 67, 0.15);\n",
              "      fill: #174EA6;\n",
              "    }\n",
              "\n",
              "    [theme=dark] .colab-df-convert {\n",
              "      background-color: #3B4455;\n",
              "      fill: #D2E3FC;\n",
              "    }\n",
              "\n",
              "    [theme=dark] .colab-df-convert:hover {\n",
              "      background-color: #434B5C;\n",
              "      box-shadow: 0px 1px 3px 1px rgba(0, 0, 0, 0.15);\n",
              "      filter: drop-shadow(0px 1px 2px rgba(0, 0, 0, 0.3));\n",
              "      fill: #FFFFFF;\n",
              "    }\n",
              "  </style>\n",
              "\n",
              "      <script>\n",
              "        const buttonEl =\n",
              "          document.querySelector('#df-8797fd02-66df-43df-87cc-889de1507f0c button.colab-df-convert');\n",
              "        buttonEl.style.display =\n",
              "          google.colab.kernel.accessAllowed ? 'block' : 'none';\n",
              "\n",
              "        async function convertToInteractive(key) {\n",
              "          const element = document.querySelector('#df-8797fd02-66df-43df-87cc-889de1507f0c');\n",
              "          const dataTable =\n",
              "            await google.colab.kernel.invokeFunction('convertToInteractive',\n",
              "                                                     [key], {});\n",
              "          if (!dataTable) return;\n",
              "\n",
              "          const docLinkHtml = 'Like what you see? Visit the ' +\n",
              "            '<a target=\"_blank\" href=https://colab.research.google.com/notebooks/data_table.ipynb>data table notebook</a>'\n",
              "            + ' to learn more about interactive tables.';\n",
              "          element.innerHTML = '';\n",
              "          dataTable['output_type'] = 'display_data';\n",
              "          await google.colab.output.renderOutput(dataTable, element);\n",
              "          const docLink = document.createElement('div');\n",
              "          docLink.innerHTML = docLinkHtml;\n",
              "          element.appendChild(docLink);\n",
              "        }\n",
              "      </script>\n",
              "    </div>\n",
              "  </div>\n",
              "  "
            ]
          },
          "metadata": {},
          "execution_count": 6
        }
      ]
    },
    {
      "cell_type": "code",
      "source": [
        "# Split features from labels\n",
        "train_features = train_dataset.copy()\n",
        "test_features = test_dataset.copy()\n",
        "\n",
        "train_labels = train_features.pop('MPG')\n",
        "test_labels = test_features.pop('MPG')"
      ],
      "metadata": {
        "id": "vWJP5ixd85VF"
      },
      "execution_count": 7,
      "outputs": []
    },
    {
      "cell_type": "code",
      "source": [
        "def plot(feature, x=None, y=None):\n",
        "  plt.figure(figsize=(10,8))\n",
        "  plt.scatter(train_features[feature], train_labels, label='Data')\n",
        "  if x is not None and y is not None:\n",
        "    plt.plot(x, y, color='k', label='Predictions')\n",
        "  plt.xlabel(feature)\n",
        "  plt.ylabel('MPG')\n",
        "  plt.legend()"
      ],
      "metadata": {
        "id": "Zie3rboY9rDb"
      },
      "execution_count": 8,
      "outputs": []
    },
    {
      "cell_type": "code",
      "source": [
        "plot('Horsepower')"
      ],
      "metadata": {
        "colab": {
          "base_uri": "https://localhost:8080/",
          "height": 497
        },
        "id": "YW90jnIq-boN",
        "outputId": "d2738288-9fbe-4e1a-b9fc-0a54bf26ab9a"
      },
      "execution_count": 9,
      "outputs": [
        {
          "output_type": "display_data",
          "data": {
            "text/plain": [
              "<Figure size 720x576 with 1 Axes>"
            ],
            "image/png": "[encoded data removed]"
          },
          "metadata": {
            "needs_background": "light"
          }
        }
      ]
    },
    {
      "cell_type": "code",
      "source": [
        "plot('Weight')"
      ],
      "metadata": {
        "colab": {
          "base_uri": "https://localhost:8080/",
          "height": 497
        },
        "id": "NKrqrNxW-ehC",
        "outputId": "df47c710-6986-4575-c12d-532976de53c1"
      },
      "execution_count": 10,
      "outputs": [
        {
          "output_type": "display_data",
          "data": {
            "text/plain": [
              "<Figure size 720x576 with 1 Axes>"
            ],
            "image/png": "[encoded data removed]"
          },
          "metadata": {
            "needs_background": "light"
          }
        }
      ]
    },
    {
      "cell_type": "code",
      "source": [
        "# Normalize\n",
        "print(train_dataset.describe().transpose()[['mean', 'std']])\n",
        "\n",
        "# Normalization layer\n",
        "normalizer = preprocessing.Normalization()\n",
        "\n",
        "# adapt to the data\n",
        "normalizer.adapt(np.array(train_features))\n",
        "print(normalizer.mean.numpy())"
      ],
      "metadata": {
        "colab": {
          "base_uri": "https://localhost:8080/"
        },
        "id": "5lT48fr4_Cqz",
        "outputId": "eec02df4-0f27-441a-e443-214ef8710eb1"
      },
      "execution_count": 11,
      "outputs": [
        {
          "output_type": "stream",
          "name": "stdout",
          "text": [
            "                     mean         std\n",
            "MPG             23.310510    7.728652\n",
            "Cylinders        5.477707    1.699788\n",
            "Displacement   195.318471  104.331589\n",
            "Horsepower     104.869427   38.096214\n",
            "Weight        2990.251592  843.898596\n",
            "Acceleration    15.559236    2.789230\n",
            "Model Year      75.898089    3.675642\n",
            "USA              0.624204    0.485101\n",
            "Europe           0.178344    0.383413\n",
            "Japan            0.197452    0.398712\n",
            "[[   5.478  195.318  104.869 2990.252   15.559   75.898    0.624    0.178\n",
            "     0.197]]\n"
          ]
        }
      ]
    },
    {
      "cell_type": "code",
      "source": [
        "# When the layer is called it returns the input data, with each feature independently normalized:\n",
        "# (input-mean)/stddev\n",
        "first = np.array(train_features[:1])\n",
        "print('First Example:', first)\n",
        "print('Normalized:', normalizer(first).numpy()) # each value within a distribution with mean 0 and std 1"
      ],
      "metadata": {
        "colab": {
          "base_uri": "https://localhost:8080/"
        },
        "id": "vYw73GSM_nIJ",
        "outputId": "1de9f145-8d06-439e-889f-4365d72095d5"
      },
      "execution_count": 12,
      "outputs": [
        {
          "output_type": "stream",
          "name": "stdout",
          "text": [
            "First Example: [[   4.    90.    75.  2125.    14.5   74.     1.     0.     0. ]]\n",
            "Normalized: [[-0.871 -1.011 -0.785 -1.027 -0.38  -0.517  0.776 -0.466 -0.496]]\n"
          ]
        }
      ]
    },
    {
      "cell_type": "code",
      "source": [
        "# Regression\n",
        "# 1. Normalize the input horsepower\n",
        "# 2. Apply a linear transformation (y = m*x + b) to produce 1 output using layers.Dense\n",
        "\n",
        "feature = 'Horsepower'\n",
        "single_feature = np.array(train_features[feature])\n",
        "print(single_feature.shape, train_features.shape)\n",
        "\n",
        "# Normalization layer\n",
        "single_feature_normalizer = layers.Normalization(axis=None)\n",
        "\n",
        "# adapt to the feature\n",
        "single_feature_normalizer.adapt(single_feature)"
      ],
      "metadata": {
        "colab": {
          "base_uri": "https://localhost:8080/"
        },
        "id": "wuBG72zOBJjP",
        "outputId": "db367872-7b01-46de-cbd8-d0022957dc16"
      },
      "execution_count": 47,
      "outputs": [
        {
          "output_type": "stream",
          "name": "stdout",
          "text": [
            "(314,) (314, 9)\n"
          ]
        }
      ]
    },
    {
      "cell_type": "code",
      "source": [
        "# Sequential model \n",
        "single_feature_model = keras.models.Sequential([\n",
        "    layers.Input(shape=(1,)),\n",
        "    single_feature_normalizer,\n",
        "    layers.Dense(units=1) # linear model (point 2 , above kernel)\n",
        "])"
      ],
      "metadata": {
        "id": "Qc7V4BFTCSV9"
      },
      "execution_count": 48,
      "outputs": []
    },
    {
      "cell_type": "code",
      "source": [
        "single_feature_model.summary()"
      ],
      "metadata": {
        "colab": {
          "base_uri": "https://localhost:8080/"
        },
        "id": "6_oM-jZnD5_a",
        "outputId": "6257e229-3def-441e-a412-549c22b02bf3"
      },
      "execution_count": 49,
      "outputs": [
        {
          "output_type": "stream",
          "name": "stdout",
          "text": [
            "Model: \"sequential_14\"\n",
            "_________________________________________________________________\n",
            " Layer (type)                Output Shape              Param #   \n",
            "=================================================================\n",
            " normalization_16 (Normaliza  (None, 1)                3         \n",
            " tion)                                                           \n",
            "                                                                 \n",
            " dense_14 (Dense)            (None, 1)                 2         \n",
            "                                                                 \n",
            "=================================================================\n",
            "Total params: 5\n",
            "Trainable params: 2\n",
            "Non-trainable params: 3\n",
            "_________________________________________________________________\n"
          ]
        }
      ]
    },
    {
      "cell_type": "code",
      "source": [
        "# loss and optimizer\n",
        "loss = keras.losses.MeanAbsoluteError() # this is one possiblity, other being \"MeanSquaredError\" ie (y_p - y)**2\n",
        "optim = keras.optimizers.Adam(learning_rate=0.1)\n",
        "# compile\n",
        "single_feature_model.compile(optimizer=optim, loss=loss)"
      ],
      "metadata": {
        "id": "1vBkwh94Pcwc"
      },
      "execution_count": 51,
      "outputs": []
    },
    {
      "cell_type": "code",
      "source": [
        "history = single_feature_model.fit(\n",
        "    train_features[feature], train_labels, \n",
        "    epochs=100, \n",
        "    verbose=1,\n",
        "    # calculate validation results on 20% of the training data\n",
        "    validation_split = 0.2\n",
        ") "
      ],
      "metadata": {
        "colab": {
          "base_uri": "https://localhost:8080/"
        },
        "id": "C37SYS89QKsY",
        "outputId": "67b13325-4a40-4dc7-eed1-9595f099a0f1"
      },
      "execution_count": 52,
      "outputs": [
        {
          "output_type": "stream",
          "name": "stdout",
          "text": [
            "Epoch 1/100\n",
            "8/8 [==============================] - 1s 23ms/step - loss: 22.8632 - val_loss: 22.9368\n",
            "Epoch 2/100\n",
            "8/8 [==============================] - 0s 5ms/step - loss: 22.0649 - val_loss: 22.1372\n",
            "Epoch 3/100\n",
            "8/8 [==============================] - 0s 5ms/step - loss: 21.2630 - val_loss: 21.3371\n",
            "Epoch 4/100\n",
            "8/8 [==============================] - 0s 5ms/step - loss: 20.4630 - val_loss: 20.5370\n",
            "Epoch 5/100\n",
            "8/8 [==============================] - 0s 5ms/step - loss: 19.6618 - val_loss: 19.7372\n",
            "Epoch 6/100\n",
            "8/8 [==============================] - 0s 5ms/step - loss: 18.8616 - val_loss: 18.9372\n",
            "Epoch 7/100\n",
            "8/8 [==============================] - 0s 5ms/step - loss: 18.0607 - val_loss: 18.1372\n",
            "Epoch 8/100\n",
            "8/8 [==============================] - 0s 5ms/step - loss: 17.2607 - val_loss: 17.3372\n",
            "Epoch 9/100\n",
            "8/8 [==============================] - 0s 5ms/step - loss: 16.4636 - val_loss: 16.5373\n",
            "Epoch 10/100\n",
            "8/8 [==============================] - 0s 6ms/step - loss: 15.6624 - val_loss: 15.7371\n",
            "Epoch 11/100\n",
            "8/8 [==============================] - 0s 5ms/step - loss: 14.8649 - val_loss: 14.9385\n",
            "Epoch 12/100\n",
            "8/8 [==============================] - 0s 5ms/step - loss: 14.0776 - val_loss: 14.1442\n",
            "Epoch 13/100\n",
            "8/8 [==============================] - 0s 5ms/step - loss: 13.2908 - val_loss: 13.3654\n",
            "Epoch 14/100\n",
            "8/8 [==============================] - 0s 6ms/step - loss: 12.5111 - val_loss: 12.5928\n",
            "Epoch 15/100\n",
            "8/8 [==============================] - 0s 6ms/step - loss: 11.7383 - val_loss: 11.8149\n",
            "Epoch 16/100\n",
            "8/8 [==============================] - 0s 5ms/step - loss: 10.9545 - val_loss: 11.0424\n",
            "Epoch 17/100\n",
            "8/8 [==============================] - 0s 5ms/step - loss: 10.1845 - val_loss: 10.2611\n",
            "Epoch 18/100\n",
            "8/8 [==============================] - 0s 5ms/step - loss: 9.4034 - val_loss: 9.4886\n",
            "Epoch 19/100\n",
            "8/8 [==============================] - 0s 5ms/step - loss: 8.6910 - val_loss: 8.7196\n",
            "Epoch 20/100\n",
            "8/8 [==============================] - 0s 5ms/step - loss: 7.9615 - val_loss: 7.9801\n",
            "Epoch 21/100\n",
            "8/8 [==============================] - 0s 6ms/step - loss: 7.2519 - val_loss: 7.2867\n",
            "Epoch 22/100\n",
            "8/8 [==============================] - 0s 8ms/step - loss: 6.6363 - val_loss: 6.6379\n",
            "Epoch 23/100\n",
            "8/8 [==============================] - 0s 5ms/step - loss: 6.0457 - val_loss: 6.0508\n",
            "Epoch 24/100\n",
            "8/8 [==============================] - 0s 5ms/step - loss: 5.5213 - val_loss: 5.6218\n",
            "Epoch 25/100\n",
            "8/8 [==============================] - 0s 5ms/step - loss: 5.1130 - val_loss: 5.2810\n",
            "Epoch 26/100\n",
            "8/8 [==============================] - 0s 5ms/step - loss: 4.7910 - val_loss: 5.0488\n",
            "Epoch 27/100\n",
            "8/8 [==============================] - 0s 5ms/step - loss: 4.5241 - val_loss: 4.8620\n",
            "Epoch 28/100\n",
            "8/8 [==============================] - 0s 5ms/step - loss: 4.3208 - val_loss: 4.6864\n",
            "Epoch 29/100\n",
            "8/8 [==============================] - 0s 6ms/step - loss: 4.1688 - val_loss: 4.5488\n",
            "Epoch 30/100\n",
            "8/8 [==============================] - 0s 5ms/step - loss: 4.0442 - val_loss: 4.4519\n",
            "Epoch 31/100\n",
            "8/8 [==============================] - 0s 6ms/step - loss: 3.9773 - val_loss: 4.4018\n",
            "Epoch 32/100\n",
            "8/8 [==============================] - 0s 5ms/step - loss: 3.9031 - val_loss: 4.3552\n",
            "Epoch 33/100\n",
            "8/8 [==============================] - 0s 6ms/step - loss: 3.8712 - val_loss: 4.3008\n",
            "Epoch 34/100\n",
            "8/8 [==============================] - 0s 5ms/step - loss: 3.8482 - val_loss: 4.2852\n",
            "Epoch 35/100\n",
            "8/8 [==============================] - 0s 6ms/step - loss: 3.8353 - val_loss: 4.2513\n",
            "Epoch 36/100\n",
            "8/8 [==============================] - 0s 5ms/step - loss: 3.8225 - val_loss: 4.2145\n",
            "Epoch 37/100\n",
            "8/8 [==============================] - 0s 5ms/step - loss: 3.8183 - val_loss: 4.2034\n",
            "Epoch 38/100\n",
            "8/8 [==============================] - 0s 5ms/step - loss: 3.8139 - val_loss: 4.2068\n",
            "Epoch 39/100\n",
            "8/8 [==============================] - 0s 5ms/step - loss: 3.8062 - val_loss: 4.2117\n",
            "Epoch 40/100\n",
            "8/8 [==============================] - 0s 5ms/step - loss: 3.8033 - val_loss: 4.2062\n",
            "Epoch 41/100\n",
            "8/8 [==============================] - 0s 5ms/step - loss: 3.8109 - val_loss: 4.2069\n",
            "Epoch 42/100\n",
            "8/8 [==============================] - 0s 5ms/step - loss: 3.8028 - val_loss: 4.1955\n",
            "Epoch 43/100\n",
            "8/8 [==============================] - 0s 5ms/step - loss: 3.8029 - val_loss: 4.1975\n",
            "Epoch 44/100\n",
            "8/8 [==============================] - 0s 5ms/step - loss: 3.8030 - val_loss: 4.1895\n",
            "Epoch 45/100\n",
            "8/8 [==============================] - 0s 5ms/step - loss: 3.8034 - val_loss: 4.1993\n",
            "Epoch 46/100\n",
            "8/8 [==============================] - 0s 5ms/step - loss: 3.8067 - val_loss: 4.1906\n",
            "Epoch 47/100\n",
            "8/8 [==============================] - 0s 6ms/step - loss: 3.8027 - val_loss: 4.2025\n",
            "Epoch 48/100\n",
            "8/8 [==============================] - 0s 5ms/step - loss: 3.8031 - val_loss: 4.1982\n",
            "Epoch 49/100\n",
            "8/8 [==============================] - 0s 5ms/step - loss: 3.8027 - val_loss: 4.1985\n",
            "Epoch 50/100\n",
            "8/8 [==============================] - 0s 5ms/step - loss: 3.8043 - val_loss: 4.1889\n",
            "Epoch 51/100\n",
            "8/8 [==============================] - 0s 7ms/step - loss: 3.8034 - val_loss: 4.2033\n",
            "Epoch 52/100\n",
            "8/8 [==============================] - 0s 5ms/step - loss: 3.8025 - val_loss: 4.1931\n",
            "Epoch 53/100\n",
            "8/8 [==============================] - 0s 5ms/step - loss: 3.8120 - val_loss: 4.2056\n",
            "Epoch 54/100\n",
            "8/8 [==============================] - 0s 6ms/step - loss: 3.8020 - val_loss: 4.1486\n",
            "Epoch 55/100\n",
            "8/8 [==============================] - 0s 5ms/step - loss: 3.8077 - val_loss: 4.1296\n",
            "Epoch 56/100\n",
            "8/8 [==============================] - 0s 6ms/step - loss: 3.8130 - val_loss: 4.1445\n",
            "Epoch 57/100\n",
            "8/8 [==============================] - 0s 6ms/step - loss: 3.8082 - val_loss: 4.1382\n",
            "Epoch 58/100\n",
            "8/8 [==============================] - 0s 5ms/step - loss: 3.8064 - val_loss: 4.1586\n",
            "Epoch 59/100\n",
            "8/8 [==============================] - 0s 6ms/step - loss: 3.8064 - val_loss: 4.1900\n",
            "Epoch 60/100\n",
            "8/8 [==============================] - 0s 5ms/step - loss: 3.8052 - val_loss: 4.1966\n",
            "Epoch 61/100\n",
            "8/8 [==============================] - 0s 5ms/step - loss: 3.8032 - val_loss: 4.2028\n",
            "Epoch 62/100\n",
            "8/8 [==============================] - 0s 5ms/step - loss: 3.8058 - val_loss: 4.1983\n",
            "Epoch 63/100\n",
            "8/8 [==============================] - 0s 5ms/step - loss: 3.8095 - val_loss: 4.1660\n",
            "Epoch 64/100\n",
            "8/8 [==============================] - 0s 5ms/step - loss: 3.8041 - val_loss: 4.1833\n",
            "Epoch 65/100\n",
            "8/8 [==============================] - 0s 5ms/step - loss: 3.8044 - val_loss: 4.2036\n",
            "Epoch 66/100\n",
            "8/8 [==============================] - 0s 6ms/step - loss: 3.8028 - val_loss: 4.1994\n",
            "Epoch 67/100\n",
            "8/8 [==============================] - 0s 6ms/step - loss: 3.8026 - val_loss: 4.1815\n",
            "Epoch 68/100\n",
            "8/8 [==============================] - 0s 6ms/step - loss: 3.8042 - val_loss: 4.1767\n",
            "Epoch 69/100\n",
            "8/8 [==============================] - 0s 5ms/step - loss: 3.8048 - val_loss: 4.1982\n",
            "Epoch 70/100\n",
            "8/8 [==============================] - 0s 5ms/step - loss: 3.8039 - val_loss: 4.1899\n",
            "Epoch 71/100\n",
            "8/8 [==============================] - 0s 5ms/step - loss: 3.8035 - val_loss: 4.1910\n",
            "Epoch 72/100\n",
            "8/8 [==============================] - 0s 6ms/step - loss: 3.8028 - val_loss: 4.1818\n",
            "Epoch 73/100\n",
            "8/8 [==============================] - 0s 5ms/step - loss: 3.8042 - val_loss: 4.1764\n",
            "Epoch 74/100\n",
            "8/8 [==============================] - 0s 6ms/step - loss: 3.8054 - val_loss: 4.1932\n",
            "Epoch 75/100\n",
            "8/8 [==============================] - 0s 5ms/step - loss: 3.8095 - val_loss: 4.2115\n",
            "Epoch 76/100\n",
            "8/8 [==============================] - 0s 5ms/step - loss: 3.8031 - val_loss: 4.1936\n",
            "Epoch 77/100\n",
            "8/8 [==============================] - 0s 5ms/step - loss: 3.8044 - val_loss: 4.1702\n",
            "Epoch 78/100\n",
            "8/8 [==============================] - 0s 5ms/step - loss: 3.8067 - val_loss: 4.1631\n",
            "Epoch 79/100\n",
            "8/8 [==============================] - 0s 5ms/step - loss: 3.8054 - val_loss: 4.1724\n",
            "Epoch 80/100\n",
            "8/8 [==============================] - 0s 5ms/step - loss: 3.8040 - val_loss: 4.2053\n",
            "Epoch 81/100\n",
            "8/8 [==============================] - 0s 5ms/step - loss: 3.8030 - val_loss: 4.1985\n",
            "Epoch 82/100\n",
            "8/8 [==============================] - 0s 5ms/step - loss: 3.8029 - val_loss: 4.1879\n",
            "Epoch 83/100\n",
            "8/8 [==============================] - 0s 6ms/step - loss: 3.8053 - val_loss: 4.1712\n",
            "Epoch 84/100\n",
            "8/8 [==============================] - 0s 5ms/step - loss: 3.8066 - val_loss: 4.1630\n",
            "Epoch 85/100\n",
            "8/8 [==============================] - 0s 6ms/step - loss: 3.8055 - val_loss: 4.1926\n",
            "Epoch 86/100\n",
            "8/8 [==============================] - 0s 5ms/step - loss: 3.8026 - val_loss: 4.1892\n",
            "Epoch 87/100\n",
            "8/8 [==============================] - 0s 5ms/step - loss: 3.8059 - val_loss: 4.1852\n",
            "Epoch 88/100\n",
            "8/8 [==============================] - 0s 6ms/step - loss: 3.8055 - val_loss: 4.1842\n",
            "Epoch 89/100\n",
            "8/8 [==============================] - 0s 5ms/step - loss: 3.8032 - val_loss: 4.1961\n",
            "Epoch 90/100\n",
            "8/8 [==============================] - 0s 5ms/step - loss: 3.8045 - val_loss: 4.1916\n",
            "Epoch 91/100\n",
            "8/8 [==============================] - 0s 5ms/step - loss: 3.8071 - val_loss: 4.2209\n",
            "Epoch 92/100\n",
            "8/8 [==============================] - 0s 6ms/step - loss: 3.8067 - val_loss: 4.1879\n",
            "Epoch 93/100\n",
            "8/8 [==============================] - 0s 5ms/step - loss: 3.8145 - val_loss: 4.1511\n",
            "Epoch 94/100\n",
            "8/8 [==============================] - 0s 5ms/step - loss: 3.8062 - val_loss: 4.1634\n",
            "Epoch 95/100\n",
            "8/8 [==============================] - 0s 5ms/step - loss: 3.8185 - val_loss: 4.2237\n",
            "Epoch 96/100\n",
            "8/8 [==============================] - 0s 5ms/step - loss: 3.8046 - val_loss: 4.2034\n",
            "Epoch 97/100\n",
            "8/8 [==============================] - 0s 6ms/step - loss: 3.8034 - val_loss: 4.1832\n",
            "Epoch 98/100\n",
            "8/8 [==============================] - 0s 8ms/step - loss: 3.8034 - val_loss: 4.1940\n",
            "Epoch 99/100\n",
            "8/8 [==============================] - 0s 6ms/step - loss: 3.8051 - val_loss: 4.1923\n",
            "Epoch 100/100\n",
            "8/8 [==============================] - 0s 5ms/step - loss: 3.8019 - val_loss: 4.2023\n"
          ]
        }
      ]
    },
    {
      "cell_type": "code",
      "source": [
        "def plot_loss(history):\n",
        "  plt.figure(figsize=(10,8))\n",
        "  plt.plot(history.history['loss'], label='loss')\n",
        "  plt.plot(history.history['val_loss'], label='val_loss')\n",
        "  plt.ylim([0,25])\n",
        "  plt.xlabel('Epoch')\n",
        "  plt.ylabel('Error [MPG]')\n",
        "  plt.legend()\n",
        "  plt.grid(True)\n",
        "plot_loss(history)"
      ],
      "metadata": {
        "colab": {
          "base_uri": "https://localhost:8080/",
          "height": 501
        },
        "id": "WXSQF_0NQn9F",
        "outputId": "ad6e4bd3-cf93-4e7b-ec03-a28bb1ccb561"
      },
      "execution_count": 54,
      "outputs": [
        {
          "output_type": "display_data",
          "data": {
            "text/plain": [
              "<Figure size 720x576 with 1 Axes>"
            ],
            "image/png": "[encoded data removed]"
          },
          "metadata": {
            "needs_background": "light"
          }
        }
      ]
    },
    {
      "cell_type": "code",
      "source": [
        "single_feature_model.evaluate(\n",
        "    test_features[feature],\n",
        "    test_labels, verbose=1)"
      ],
      "metadata": {
        "colab": {
          "base_uri": "https://localhost:8080/"
        },
        "id": "yZtVhP9RRY5f",
        "outputId": "5599c63e-dd9c-4b18-a857-1f9288bb9245"
      },
      "execution_count": 56,
      "outputs": [
        {
          "output_type": "stream",
          "name": "stdout",
          "text": [
            "3/3 [==============================] - 0s 6ms/step - loss: 3.6484\n"
          ]
        },
        {
          "output_type": "execute_result",
          "data": {
            "text/plain": [
              "3.6484313011169434"
            ]
          },
          "metadata": {},
          "execution_count": 56
        }
      ]
    },
    {
      "cell_type": "code",
      "source": [
        "# predict and plot \n",
        "range_min = np.min(test_features[feature]) - 10\n",
        "range_max = np.max(test_features[feature]) + 10\n",
        "x = tf.linspace(range_min, range_max, 200)\n",
        "y = single_feature_model.predict(x)\n",
        "plot(feature, x, y)"
      ],
      "metadata": {
        "colab": {
          "base_uri": "https://localhost:8080/",
          "height": 497
        },
        "id": "lxUwSk_4Rt_J",
        "outputId": "1f348c5c-3cd1-4be0-cccc-2aebb0e84d66"
      },
      "execution_count": 58,
      "outputs": [
        {
          "output_type": "display_data",
          "data": {
            "text/plain": [
              "<Figure size 720x576 with 1 Axes>"
            ],
            "image/png": "[encoded data removed]"
          },
          "metadata": {
            "needs_background": "light"
          }
        }
      ]
    },
    {
      "cell_type": "code",
      "source": [
        "# Extending the result to a Deep Neural Network (DNN)\n",
        "dnn_model = keras.Sequential([\n",
        "    layers.Input(shape=(1,)),\n",
        "    single_feature_normalizer,\n",
        "    layers.Dense(64, activation='relu'),\n",
        "    layers.Dense(64, activation='relu'),\n",
        "    layers.Dense(1)\n",
        "])"
      ],
      "metadata": {
        "id": "0862IaddSM4_"
      },
      "execution_count": 62,
      "outputs": []
    },
    {
      "cell_type": "code",
      "source": [
        "dnn_model.compile(loss=loss, optimizer=tf.keras.optimizers.Adam(0.001))\n",
        "dnn_model.summary()"
      ],
      "metadata": {
        "colab": {
          "base_uri": "https://localhost:8080/"
        },
        "id": "Ov1PmSDXS7_9",
        "outputId": "8c0847dc-73bf-4cb2-f219-c434f48628c6"
      },
      "execution_count": 63,
      "outputs": [
        {
          "output_type": "stream",
          "name": "stdout",
          "text": [
            "Model: \"sequential_18\"\n",
            "_________________________________________________________________\n",
            " Layer (type)                Output Shape              Param #   \n",
            "=================================================================\n",
            " normalization_16 (Normaliza  multiple                 3         \n",
            " tion)                                                           \n",
            "                                                                 \n",
            " dense_20 (Dense)            (None, 64)                128       \n",
            "                                                                 \n",
            " dense_21 (Dense)            (None, 64)                4160      \n",
            "                                                                 \n",
            " dense_22 (Dense)            (None, 1)                 65        \n",
            "                                                                 \n",
            "=================================================================\n",
            "Total params: 4,356\n",
            "Trainable params: 4,353\n",
            "Non-trainable params: 3\n",
            "_________________________________________________________________\n"
          ]
        }
      ]
    },
    {
      "cell_type": "code",
      "source": [
        "# fitting the dnn model\n",
        "dnn_model.fit(\n",
        "    train_features[feature], train_labels,\n",
        "    validation_split=0.2,\n",
        "    verbose=0, epochs=100\n",
        ")"
      ],
      "metadata": {
        "colab": {
          "base_uri": "https://localhost:8080/"
        },
        "id": "vzrV2p8DTpgM",
        "outputId": "9fb1fb9c-918d-45ca-8c28-63f480df5b66"
      },
      "execution_count": 68,
      "outputs": [
        {
          "output_type": "execute_result",
          "data": {
            "text/plain": [
              "<keras.callbacks.History at 0x7fa052baa750>"
            ]
          },
          "metadata": {},
          "execution_count": 68
        }
      ]
    },
    {
      "cell_type": "code",
      "source": [
        "# dnn model evaluation\n",
        "dnn_model.evaluate(test_features[feature], test_labels, verbose=1)"
      ],
      "metadata": {
        "colab": {
          "base_uri": "https://localhost:8080/"
        },
        "id": "-vdxN-T_T7AT",
        "outputId": "e04ad38d-7942-435f-ae05-155c74c7bfb7"
      },
      "execution_count": 69,
      "outputs": [
        {
          "output_type": "stream",
          "name": "stdout",
          "text": [
            "3/3 [==============================] - 0s 4ms/step - loss: 2.7810\n"
          ]
        },
        {
          "output_type": "execute_result",
          "data": {
            "text/plain": [
              "2.7809553146362305"
            ]
          },
          "metadata": {},
          "execution_count": 69
        }
      ]
    },
    {
      "cell_type": "code",
      "source": [
        "# predict and plot\n",
        "x = tf.linspace(range_min, range_max, 200)\n",
        "y = dnn_model.predict(x)\n",
        "plot(feature, x, y)"
      ],
      "metadata": {
        "colab": {
          "base_uri": "https://localhost:8080/",
          "height": 497
        },
        "id": "q-lg_teMUQL4",
        "outputId": "0e6209ee-7945-4375-ad02-5a04ec5cc2da"
      },
      "execution_count": 70,
      "outputs": [
        {
          "output_type": "display_data",
          "data": {
            "text/plain": [
              "<Figure size 720x576 with 1 Axes>"
            ],
            "image/png": "[encoded data removed]"
          },
          "metadata": {
            "needs_background": "light"
          }
        }
      ]
    },
    {
      "cell_type": "code",
      "source": [
        "# The above two models (linear regressions and deep neural networks) used only one feature, now we are going to use all features \n",
        "linear_model = tf.keras.Sequential([\n",
        "    normalizer,\n",
        "    layers.Dense(units=1)\n",
        "])\n",
        "linear_model.compile(\n",
        "    optimizer=tf.optimizers.Adam(learning_rate=0.1),\n",
        "    loss=loss\n",
        ")"
      ],
      "metadata": {
        "id": "TudzHIrrUgL0"
      },
      "execution_count": 71,
      "outputs": []
    },
    {
      "cell_type": "code",
      "source": [
        "linear_model.fit(\n",
        "    train_features, train_labels, \n",
        "    epochs=100,\n",
        "    verbose=0,\n",
        "    # Calculation of validation results on 20% of the training data\n",
        "    validation_split=0.2\n",
        ")"
      ],
      "metadata": {
        "colab": {
          "base_uri": "https://localhost:8080/"
        },
        "id": "uaN5ZHNQVmLk",
        "outputId": "32047f6b-8e76-4d69-9908-4d5ac880321d"
      },
      "execution_count": 72,
      "outputs": [
        {
          "output_type": "execute_result",
          "data": {
            "text/plain": [
              "<keras.callbacks.History at 0x7fa052beced0>"
            ]
          },
          "metadata": {},
          "execution_count": 72
        }
      ]
    },
    {
      "cell_type": "code",
      "source": [
        "linear_model.evaluate(\n",
        "    test_features,\n",
        "    test_labels, \n",
        "    verbose=1\n",
        ")"
      ],
      "metadata": {
        "colab": {
          "base_uri": "https://localhost:8080/"
        },
        "id": "2-w_lf5oV5Nv",
        "outputId": "38e3756f-6642-42a7-8420-133b86d1cc19"
      },
      "execution_count": 73,
      "outputs": [
        {
          "output_type": "stream",
          "name": "stdout",
          "text": [
            "3/3 [==============================] - 0s 5ms/step - loss: 2.4710\n"
          ]
        },
        {
          "output_type": "execute_result",
          "data": {
            "text/plain": [
              "2.470980167388916"
            ]
          },
          "metadata": {},
          "execution_count": 73
        }
      ]
    },
    {
      "cell_type": "code",
      "source": [],
      "metadata": {
        "id": "xL1VAnR5WBr9"
      },
      "execution_count": null,
      "outputs": []
    }
  ]
}